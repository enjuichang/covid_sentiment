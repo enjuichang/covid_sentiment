{
 "cells": [
  {
   "cell_type": "markdown",
   "source": "## Statistical Model\nThis is the code for the training the statistical models.\n\n### Structure\n- Package Setup\n- Preprocessing for labels\n- Tokenization\n- Model Training\n- Metrics",
   "metadata": {
    "tags": [],
    "cell_id": "00000-82490aa3-4853-4f72-b547-163f8a28833a",
    "deepnote_cell_type": "markdown"
   }
  },
  {
   "cell_type": "markdown",
   "source": "### Setup\nHere, I setup the packages and imported the data needed for model training.\n\n**Downloaded Packages**\n1. SpaCy English library\n2. Contextual Spell Check\n\n\n**Imported Packages**\n1. Pandas\n2. SpaCy\n3. Scikit-learn\n4. string\n5. re",
   "metadata": {
    "tags": [],
    "cell_id": "00001-f8db77ad-cf41-4a66-ba89-c506a9005552",
    "deepnote_cell_type": "markdown"
   }
  },
  {
   "cell_type": "code",
   "metadata": {
    "tags": [],
    "deepnote_to_be_reexecuted": true,
    "source_hash": "adbc20b9",
    "execution_start": 1633719857335,
    "execution_millis": 32407,
    "cell_id": "00002-c66a6dad-19a0-4cb5-93cc-5483be35b121",
    "deepnote_cell_type": "code"
   },
   "source": "# Installation of packages and embedding\nimport sys\n!{sys.executable} -m spacy download en_core_web_sm",
   "outputs": [
    {
     "name": "stdout",
     "text": "2021-10-08 19:04:20.867197: W tensorflow/stream_executor/platform/default/dso_loader.cc:60] Could not load dynamic library 'libcudart.so.11.0'; dlerror: libcudart.so.11.0: cannot open shared object file: No such file or directory\n2021-10-08 19:04:20.867257: I tensorflow/stream_executor/cuda/cudart_stub.cc:29] Ignore above cudart dlerror if you do not have a GPU set up on your machine.\nCollecting en-core-web-sm==3.1.0\n  Downloading https://github.com/explosion/spacy-models/releases/download/en_core_web_sm-3.1.0/en_core_web_sm-3.1.0-py3-none-any.whl (13.6 MB)\n\u001b[K     |████████████████████████████████| 13.6 MB 3.4 MB/s \n\u001b[?25hRequirement already satisfied: spacy<3.2.0,>=3.1.0 in /shared-libs/python3.7/py/lib/python3.7/site-packages (from en-core-web-sm==3.1.0) (3.1.3)\nRequirement already satisfied: tqdm<5.0.0,>=4.38.0 in /shared-libs/python3.7/py/lib/python3.7/site-packages (from spacy<3.2.0,>=3.1.0->en-core-web-sm==3.1.0) (4.62.3)\nRequirement already satisfied: murmurhash<1.1.0,>=0.28.0 in /shared-libs/python3.7/py/lib/python3.7/site-packages (from spacy<3.2.0,>=3.1.0->en-core-web-sm==3.1.0) (1.0.5)\nRequirement already satisfied: cymem<2.1.0,>=2.0.2 in /shared-libs/python3.7/py/lib/python3.7/site-packages (from spacy<3.2.0,>=3.1.0->en-core-web-sm==3.1.0) (2.0.5)\nRequirement already satisfied: wasabi<1.1.0,>=0.8.1 in /shared-libs/python3.7/py/lib/python3.7/site-packages (from spacy<3.2.0,>=3.1.0->en-core-web-sm==3.1.0) (0.8.2)\nRequirement already satisfied: catalogue<2.1.0,>=2.0.6 in /shared-libs/python3.7/py/lib/python3.7/site-packages (from spacy<3.2.0,>=3.1.0->en-core-web-sm==3.1.0) (2.0.6)\nRequirement already satisfied: blis<0.8.0,>=0.4.0 in /shared-libs/python3.7/py/lib/python3.7/site-packages (from spacy<3.2.0,>=3.1.0->en-core-web-sm==3.1.0) (0.7.4)\nRequirement already satisfied: requests<3.0.0,>=2.13.0 in /shared-libs/python3.7/py/lib/python3.7/site-packages (from spacy<3.2.0,>=3.1.0->en-core-web-sm==3.1.0) (2.26.0)\nRequirement already satisfied: numpy>=1.15.0 in /shared-libs/python3.7/py/lib/python3.7/site-packages (from spacy<3.2.0,>=3.1.0->en-core-web-sm==3.1.0) (1.19.5)\nRequirement already satisfied: srsly<3.0.0,>=2.4.1 in /shared-libs/python3.7/py/lib/python3.7/site-packages (from spacy<3.2.0,>=3.1.0->en-core-web-sm==3.1.0) (2.4.1)\nRequirement already satisfied: pathy>=0.3.5 in /shared-libs/python3.7/py/lib/python3.7/site-packages (from spacy<3.2.0,>=3.1.0->en-core-web-sm==3.1.0) (0.6.0)\nRequirement already satisfied: pydantic!=1.8,!=1.8.1,<1.9.0,>=1.7.4 in /shared-libs/python3.7/py/lib/python3.7/site-packages (from spacy<3.2.0,>=3.1.0->en-core-web-sm==3.1.0) (1.8.2)\nRequirement already satisfied: jinja2 in /shared-libs/python3.7/py-core/lib/python3.7/site-packages (from spacy<3.2.0,>=3.1.0->en-core-web-sm==3.1.0) (3.0.2)\nRequirement already satisfied: packaging>=20.0 in /shared-libs/python3.7/py-core/lib/python3.7/site-packages (from spacy<3.2.0,>=3.1.0->en-core-web-sm==3.1.0) (21.0)\nRequirement already satisfied: typing-extensions<4.0.0.0,>=3.7.4 in /shared-libs/python3.7/py-core/lib/python3.7/site-packages (from spacy<3.2.0,>=3.1.0->en-core-web-sm==3.1.0) (3.10.0.2)\nRequirement already satisfied: setuptools in /root/venv/lib/python3.7/site-packages (from spacy<3.2.0,>=3.1.0->en-core-web-sm==3.1.0) (58.1.0)\nRequirement already satisfied: spacy-legacy<3.1.0,>=3.0.8 in /shared-libs/python3.7/py/lib/python3.7/site-packages (from spacy<3.2.0,>=3.1.0->en-core-web-sm==3.1.0) (3.0.8)\nRequirement already satisfied: thinc<8.1.0,>=8.0.9 in /shared-libs/python3.7/py/lib/python3.7/site-packages (from spacy<3.2.0,>=3.1.0->en-core-web-sm==3.1.0) (8.0.10)\nRequirement already satisfied: typer<0.5.0,>=0.3.0 in /shared-libs/python3.7/py/lib/python3.7/site-packages (from spacy<3.2.0,>=3.1.0->en-core-web-sm==3.1.0) (0.4.0)\nRequirement already satisfied: preshed<3.1.0,>=3.0.2 in /shared-libs/python3.7/py/lib/python3.7/site-packages (from spacy<3.2.0,>=3.1.0->en-core-web-sm==3.1.0) (3.0.5)\nRequirement already satisfied: zipp>=0.5 in /shared-libs/python3.7/py-core/lib/python3.7/site-packages (from catalogue<2.1.0,>=2.0.6->spacy<3.2.0,>=3.1.0->en-core-web-sm==3.1.0) (3.6.0)\nRequirement already satisfied: pyparsing>=2.0.2 in /shared-libs/python3.7/py-core/lib/python3.7/site-packages (from packaging>=20.0->spacy<3.2.0,>=3.1.0->en-core-web-sm==3.1.0) (2.4.7)\nRequirement already satisfied: smart-open<6.0.0,>=5.0.0 in /shared-libs/python3.7/py/lib/python3.7/site-packages (from pathy>=0.3.5->spacy<3.2.0,>=3.1.0->en-core-web-sm==3.1.0) (5.2.1)\nRequirement already satisfied: idna<4,>=2.5 in /shared-libs/python3.7/py-core/lib/python3.7/site-packages (from requests<3.0.0,>=2.13.0->spacy<3.2.0,>=3.1.0->en-core-web-sm==3.1.0) (3.2)\nRequirement already satisfied: urllib3<1.27,>=1.21.1 in /shared-libs/python3.7/py/lib/python3.7/site-packages (from requests<3.0.0,>=2.13.0->spacy<3.2.0,>=3.1.0->en-core-web-sm==3.1.0) (1.26.7)\nRequirement already satisfied: charset-normalizer~=2.0.0 in /shared-libs/python3.7/py/lib/python3.7/site-packages (from requests<3.0.0,>=2.13.0->spacy<3.2.0,>=3.1.0->en-core-web-sm==3.1.0) (2.0.6)\nRequirement already satisfied: certifi>=2017.4.17 in /shared-libs/python3.7/py/lib/python3.7/site-packages (from requests<3.0.0,>=2.13.0->spacy<3.2.0,>=3.1.0->en-core-web-sm==3.1.0) (2021.5.30)\nRequirement already satisfied: click<9.0.0,>=7.1.1 in /shared-libs/python3.7/py/lib/python3.7/site-packages (from typer<0.5.0,>=0.3.0->spacy<3.2.0,>=3.1.0->en-core-web-sm==3.1.0) (8.0.1)\nRequirement already satisfied: importlib-metadata in /shared-libs/python3.7/py-core/lib/python3.7/site-packages (from click<9.0.0,>=7.1.1->typer<0.5.0,>=0.3.0->spacy<3.2.0,>=3.1.0->en-core-web-sm==3.1.0) (4.8.1)\nRequirement already satisfied: MarkupSafe>=2.0 in /shared-libs/python3.7/py-core/lib/python3.7/site-packages (from jinja2->spacy<3.2.0,>=3.1.0->en-core-web-sm==3.1.0) (2.0.1)\nInstalling collected packages: en-core-web-sm\nSuccessfully installed en-core-web-sm-3.1.0\n\u001b[33mWARNING: Running pip as the 'root' user can result in broken permissions and conflicting behaviour with the system package manager. It is recommended to use a virtual environment instead: https://pip.pypa.io/warnings/venv\u001b[0m\n\u001b[38;5;2m✔ Download and installation successful\u001b[0m\nYou can now load the package via spacy.load('en_core_web_sm')\nCollecting pandas-profiling[notebook]\n  Downloading pandas_profiling-3.1.0-py2.py3-none-any.whl (261 kB)\n\u001b[K     |████████████████████████████████| 261 kB 20.5 MB/s \n\u001b[?25hCollecting visions[type_image_path]==0.7.4\n  Downloading visions-0.7.4-py3-none-any.whl (102 kB)\n\u001b[K     |████████████████████████████████| 102 kB 19.3 MB/s \n\u001b[?25hCollecting tangled-up-in-unicode==0.1.0\n  Downloading tangled_up_in_unicode-0.1.0-py3-none-any.whl (3.1 MB)\n\u001b[K     |████████████████████████████████| 3.1 MB 38.5 MB/s \n\u001b[?25hCollecting htmlmin>=0.1.12\n  Downloading htmlmin-0.1.12.tar.gz (19 kB)\nCollecting multimethod>=1.4\n  Downloading multimethod-1.6-py3-none-any.whl (9.4 kB)\nRequirement already satisfied: numpy>=1.16.0 in /shared-libs/python3.7/py/lib/python3.7/site-packages (from pandas-profiling[notebook]) (1.19.5)\nRequirement already satisfied: seaborn>=0.10.1 in /shared-libs/python3.7/py/lib/python3.7/site-packages (from pandas-profiling[notebook]) (0.11.2)\nRequirement already satisfied: matplotlib>=3.2.0 in /shared-libs/python3.7/py/lib/python3.7/site-packages (from pandas-profiling[notebook]) (3.4.3)\nCollecting missingno>=0.4.2\n  Downloading missingno-0.5.0-py3-none-any.whl (8.8 kB)\nRequirement already satisfied: requests>=2.24.0 in /shared-libs/python3.7/py/lib/python3.7/site-packages (from pandas-profiling[notebook]) (2.26.0)\nRequirement already satisfied: joblib~=1.0.1 in /shared-libs/python3.7/py/lib/python3.7/site-packages (from pandas-profiling[notebook]) (1.0.1)\nRequirement already satisfied: scipy>=1.4.1 in /shared-libs/python3.7/py/lib/python3.7/site-packages (from pandas-profiling[notebook]) (1.7.1)\nRequirement already satisfied: markupsafe~=2.0.1 in /shared-libs/python3.7/py-core/lib/python3.7/site-packages (from pandas-profiling[notebook]) (2.0.1)\nRequirement already satisfied: PyYAML>=5.0.0 in /shared-libs/python3.7/py/lib/python3.7/site-packages (from pandas-profiling[notebook]) (5.4.1)\nRequirement already satisfied: pandas!=1.0.0,!=1.0.1,!=1.0.2,!=1.1.0,>=0.25.3 in /shared-libs/python3.7/py/lib/python3.7/site-packages (from pandas-profiling[notebook]) (1.2.5)\nCollecting phik>=0.11.1\n  Downloading phik-0.12.0-cp37-cp37m-manylinux2010_x86_64.whl (675 kB)\n\u001b[K     |████████████████████████████████| 675 kB 23.9 MB/s \n\u001b[?25hRequirement already satisfied: tqdm>=4.48.2 in /shared-libs/python3.7/py/lib/python3.7/site-packages (from pandas-profiling[notebook]) (4.62.3)\nRequirement already satisfied: jinja2>=2.11.1 in /shared-libs/python3.7/py-core/lib/python3.7/site-packages (from pandas-profiling[notebook]) (3.0.2)\nRequirement already satisfied: pydantic>=1.8.1 in /shared-libs/python3.7/py/lib/python3.7/site-packages (from pandas-profiling[notebook]) (1.8.2)\nRequirement already satisfied: jupyter-client>=6.0.0 in /shared-libs/python3.7/py-core/lib/python3.7/site-packages (from pandas-profiling[notebook]) (7.0.6)\nRequirement already satisfied: jupyter-core>=4.6.3 in /shared-libs/python3.7/py-core/lib/python3.7/site-packages (from pandas-profiling[notebook]) (4.8.1)\nCollecting ipywidgets>=7.5.1\n  Downloading ipywidgets-7.6.5-py2.py3-none-any.whl (121 kB)\n\u001b[K     |████████████████████████████████| 121 kB 46.6 MB/s \n\u001b[?25hCollecting networkx>=2.4\n  Downloading networkx-2.6.3-py3-none-any.whl (1.9 MB)\n\u001b[K     |████████████████████████████████| 1.9 MB 39.0 MB/s \n\u001b[?25hRequirement already satisfied: attrs>=19.3.0 in /shared-libs/python3.7/py-core/lib/python3.7/site-packages (from visions[type_image_path]==0.7.4->pandas-profiling[notebook]) (21.2.0)\nCollecting imagehash\n  Downloading ImageHash-4.2.1.tar.gz (812 kB)\n\u001b[K     |████████████████████████████████| 812 kB 41.2 MB/s \n\u001b[?25hRequirement already satisfied: Pillow in /shared-libs/python3.7/py/lib/python3.7/site-packages (from visions[type_image_path]==0.7.4->pandas-profiling[notebook]) (8.3.2)\nCollecting jupyterlab-widgets>=1.0.0\n  Downloading jupyterlab_widgets-1.0.2-py3-none-any.whl (243 kB)\n\u001b[K     |████████████████████████████████| 243 kB 41.0 MB/s \n\u001b[?25hRequirement already satisfied: traitlets>=4.3.1 in /shared-libs/python3.7/py-core/lib/python3.7/site-packages (from ipywidgets>=7.5.1->pandas-profiling[notebook]) (5.1.0)\nRequirement already satisfied: ipykernel>=4.5.1 in /shared-libs/python3.7/py-core/lib/python3.7/site-packages (from ipywidgets>=7.5.1->pandas-profiling[notebook]) (6.4.1)\nRequirement already satisfied: nbformat>=4.2.0 in /shared-libs/python3.7/py-core/lib/python3.7/site-packages (from ipywidgets>=7.5.1->pandas-profiling[notebook]) (5.1.3)\nCollecting widgetsnbextension~=3.5.0\n  Downloading widgetsnbextension-3.5.1-py2.py3-none-any.whl (2.2 MB)\n\u001b[K     |████████████████████████████████| 2.2 MB 36.8 MB/s \n\u001b[?25hRequirement already satisfied: ipython-genutils~=0.2.0 in /shared-libs/python3.7/py-core/lib/python3.7/site-packages (from ipywidgets>=7.5.1->pandas-profiling[notebook]) (0.2.0)\nRequirement already satisfied: ipython>=4.0.0 in /shared-libs/python3.7/py-core/lib/python3.7/site-packages (from ipywidgets>=7.5.1->pandas-profiling[notebook]) (7.28.0)\nRequirement already satisfied: tornado<7.0,>=4.2 in /shared-libs/python3.7/py-core/lib/python3.7/site-packages (from ipykernel>=4.5.1->ipywidgets>=7.5.1->pandas-profiling[notebook]) (6.1)\nRequirement already satisfied: argcomplete>=1.12.3 in /shared-libs/python3.7/py-core/lib/python3.7/site-packages (from ipykernel>=4.5.1->ipywidgets>=7.5.1->pandas-profiling[notebook]) (1.12.3)\nRequirement already satisfied: importlib-metadata<5 in /shared-libs/python3.7/py-core/lib/python3.7/site-packages (from ipykernel>=4.5.1->ipywidgets>=7.5.1->pandas-profiling[notebook]) (4.8.1)\nRequirement already satisfied: matplotlib-inline<0.2.0,>=0.1.0 in /shared-libs/python3.7/py-core/lib/python3.7/site-packages (from ipykernel>=4.5.1->ipywidgets>=7.5.1->pandas-profiling[notebook]) (0.1.3)\nRequirement already satisfied: debugpy<2.0,>=1.0.0 in /shared-libs/python3.7/py-core/lib/python3.7/site-packages (from ipykernel>=4.5.1->ipywidgets>=7.5.1->pandas-profiling[notebook]) (1.5.0)\nRequirement already satisfied: zipp>=0.5 in /shared-libs/python3.7/py-core/lib/python3.7/site-packages (from importlib-metadata<5->ipykernel>=4.5.1->ipywidgets>=7.5.1->pandas-profiling[notebook]) (3.6.0)\nRequirement already satisfied: typing-extensions>=3.6.4 in /shared-libs/python3.7/py-core/lib/python3.7/site-packages (from importlib-metadata<5->ipykernel>=4.5.1->ipywidgets>=7.5.1->pandas-profiling[notebook]) (3.10.0.2)\nRequirement already satisfied: decorator in /shared-libs/python3.7/py-core/lib/python3.7/site-packages (from ipython>=4.0.0->ipywidgets>=7.5.1->pandas-profiling[notebook]) (5.1.0)\nRequirement already satisfied: pexpect>4.3 in /shared-libs/python3.7/py-core/lib/python3.7/site-packages (from ipython>=4.0.0->ipywidgets>=7.5.1->pandas-profiling[notebook]) (4.8.0)\nRequirement already satisfied: backcall in /shared-libs/python3.7/py-core/lib/python3.7/site-packages (from ipython>=4.0.0->ipywidgets>=7.5.1->pandas-profiling[notebook]) (0.2.0)\nRequirement already satisfied: jedi>=0.16 in /shared-libs/python3.7/py-core/lib/python3.7/site-packages (from ipython>=4.0.0->ipywidgets>=7.5.1->pandas-profiling[notebook]) (0.17.2)\nRequirement already satisfied: setuptools>=18.5 in /root/venv/lib/python3.7/site-packages (from ipython>=4.0.0->ipywidgets>=7.5.1->pandas-profiling[notebook]) (58.1.0)\nRequirement already satisfied: pickleshare in /shared-libs/python3.7/py-core/lib/python3.7/site-packages (from ipython>=4.0.0->ipywidgets>=7.5.1->pandas-profiling[notebook]) (0.7.5)\nRequirement already satisfied: pygments in /shared-libs/python3.7/py-core/lib/python3.7/site-packages (from ipython>=4.0.0->ipywidgets>=7.5.1->pandas-profiling[notebook]) (2.10.0)\nRequirement already satisfied: prompt-toolkit!=3.0.0,!=3.0.1,<3.1.0,>=2.0.0 in /shared-libs/python3.7/py-core/lib/python3.7/site-packages (from ipython>=4.0.0->ipywidgets>=7.5.1->pandas-profiling[notebook]) (3.0.20)\nRequirement already satisfied: parso<0.8.0,>=0.7.0 in /shared-libs/python3.7/py-core/lib/python3.7/site-packages (from jedi>=0.16->ipython>=4.0.0->ipywidgets>=7.5.1->pandas-profiling[notebook]) (0.7.1)\nRequirement already satisfied: nest-asyncio>=1.5 in /shared-libs/python3.7/py-core/lib/python3.7/site-packages (from jupyter-client>=6.0.0->pandas-profiling[notebook]) (1.5.1)\nRequirement already satisfied: entrypoints in /shared-libs/python3.7/py-core/lib/python3.7/site-packages (from jupyter-client>=6.0.0->pandas-profiling[notebook]) (0.3)\nRequirement already satisfied: pyzmq>=13 in /shared-libs/python3.7/py-core/lib/python3.7/site-packages (from jupyter-client>=6.0.0->pandas-profiling[notebook]) (22.3.0)\nRequirement already satisfied: python-dateutil>=2.1 in /shared-libs/python3.7/py-core/lib/python3.7/site-packages (from jupyter-client>=6.0.0->pandas-profiling[notebook]) (2.8.2)\nRequirement already satisfied: kiwisolver>=1.0.1 in /shared-libs/python3.7/py/lib/python3.7/site-packages (from matplotlib>=3.2.0->pandas-profiling[notebook]) (1.3.2)\nRequirement already satisfied: cycler>=0.10 in /shared-libs/python3.7/py/lib/python3.7/site-packages (from matplotlib>=3.2.0->pandas-profiling[notebook]) (0.10.0)\nRequirement already satisfied: pyparsing>=2.2.1 in /shared-libs/python3.7/py-core/lib/python3.7/site-packages (from matplotlib>=3.2.0->pandas-profiling[notebook]) (2.4.7)\nRequirement already satisfied: six in /shared-libs/python3.7/py-core/lib/python3.7/site-packages (from cycler>=0.10->matplotlib>=3.2.0->pandas-profiling[notebook]) (1.16.0)\nRequirement already satisfied: jsonschema!=2.5.0,>=2.4 in /shared-libs/python3.7/py-core/lib/python3.7/site-packages (from nbformat>=4.2.0->ipywidgets>=7.5.1->pandas-profiling[notebook]) (4.0.1)\nRequirement already satisfied: pyrsistent!=0.17.0,!=0.17.1,!=0.17.2,>=0.14.0 in /shared-libs/python3.7/py-core/lib/python3.7/site-packages (from jsonschema!=2.5.0,>=2.4->nbformat>=4.2.0->ipywidgets>=7.5.1->pandas-profiling[notebook]) (0.18.0)\nRequirement already satisfied: pytz>=2017.3 in /shared-libs/python3.7/py/lib/python3.7/site-packages (from pandas!=1.0.0,!=1.0.1,!=1.0.2,!=1.1.0,>=0.25.3->pandas-profiling[notebook]) (2021.3)\nRequirement already satisfied: ptyprocess>=0.5 in /shared-libs/python3.7/py-core/lib/python3.7/site-packages (from pexpect>4.3->ipython>=4.0.0->ipywidgets>=7.5.1->pandas-profiling[notebook]) (0.7.0)\nRequirement already satisfied: wcwidth in /shared-libs/python3.7/py-core/lib/python3.7/site-packages (from prompt-toolkit!=3.0.0,!=3.0.1,<3.1.0,>=2.0.0->ipython>=4.0.0->ipywidgets>=7.5.1->pandas-profiling[notebook]) (0.2.5)\nRequirement already satisfied: urllib3<1.27,>=1.21.1 in /shared-libs/python3.7/py/lib/python3.7/site-packages (from requests>=2.24.0->pandas-profiling[notebook]) (1.26.7)\nRequirement already satisfied: certifi>=2017.4.17 in /shared-libs/python3.7/py/lib/python3.7/site-packages (from requests>=2.24.0->pandas-profiling[notebook]) (2021.5.30)\nRequirement already satisfied: charset-normalizer~=2.0.0 in /shared-libs/python3.7/py/lib/python3.7/site-packages (from requests>=2.24.0->pandas-profiling[notebook]) (2.0.6)\nRequirement already satisfied: idna<4,>=2.5 in /shared-libs/python3.7/py-core/lib/python3.7/site-packages (from requests>=2.24.0->pandas-profiling[notebook]) (3.2)\nRequirement already satisfied: notebook>=4.4.1 in /shared-libs/python3.7/py-core/lib/python3.7/site-packages (from widgetsnbextension~=3.5.0->ipywidgets>=7.5.1->pandas-profiling[notebook]) (6.4.4)\nRequirement already satisfied: terminado>=0.8.3 in /shared-libs/python3.7/py-core/lib/python3.7/site-packages (from notebook>=4.4.1->widgetsnbextension~=3.5.0->ipywidgets>=7.5.1->pandas-profiling[notebook]) (0.12.1)\nRequirement already satisfied: nbconvert in /shared-libs/python3.7/py-core/lib/python3.7/site-packages (from notebook>=4.4.1->widgetsnbextension~=3.5.0->ipywidgets>=7.5.1->pandas-profiling[notebook]) (6.2.0)\nRequirement already satisfied: argon2-cffi in /shared-libs/python3.7/py-core/lib/python3.7/site-packages (from notebook>=4.4.1->widgetsnbextension~=3.5.0->ipywidgets>=7.5.1->pandas-profiling[notebook]) (21.1.0)\nRequirement already satisfied: Send2Trash>=1.5.0 in /shared-libs/python3.7/py-core/lib/python3.7/site-packages (from notebook>=4.4.1->widgetsnbextension~=3.5.0->ipywidgets>=7.5.1->pandas-profiling[notebook]) (1.8.0)\nRequirement already satisfied: prometheus-client in /shared-libs/python3.7/py-core/lib/python3.7/site-packages (from notebook>=4.4.1->widgetsnbextension~=3.5.0->ipywidgets>=7.5.1->pandas-profiling[notebook]) (0.11.0)\nRequirement already satisfied: cffi>=1.0.0 in /shared-libs/python3.7/py-core/lib/python3.7/site-packages (from argon2-cffi->notebook>=4.4.1->widgetsnbextension~=3.5.0->ipywidgets>=7.5.1->pandas-profiling[notebook]) (1.14.6)\nRequirement already satisfied: pycparser in /shared-libs/python3.7/py-core/lib/python3.7/site-packages (from cffi>=1.0.0->argon2-cffi->notebook>=4.4.1->widgetsnbextension~=3.5.0->ipywidgets>=7.5.1->pandas-profiling[notebook]) (2.20)\nCollecting PyWavelets\n  Downloading PyWavelets-1.1.1-cp37-cp37m-manylinux1_x86_64.whl (4.4 MB)\n\u001b[K     |████████████████████████████████| 4.4 MB 41.0 MB/s \n\u001b[?25hRequirement already satisfied: mistune<2,>=0.8.1 in /shared-libs/python3.7/py-core/lib/python3.7/site-packages (from nbconvert->notebook>=4.4.1->widgetsnbextension~=3.5.0->ipywidgets>=7.5.1->pandas-profiling[notebook]) (0.8.4)\nRequirement already satisfied: nbclient<0.6.0,>=0.5.0 in /shared-libs/python3.7/py-core/lib/python3.7/site-packages (from nbconvert->notebook>=4.4.1->widgetsnbextension~=3.5.0->ipywidgets>=7.5.1->pandas-profiling[notebook]) (0.5.4)\nRequirement already satisfied: defusedxml in /shared-libs/python3.7/py-core/lib/python3.7/site-packages (from nbconvert->notebook>=4.4.1->widgetsnbextension~=3.5.0->ipywidgets>=7.5.1->pandas-profiling[notebook]) (0.7.1)\nRequirement already satisfied: bleach in /shared-libs/python3.7/py-core/lib/python3.7/site-packages (from nbconvert->notebook>=4.4.1->widgetsnbextension~=3.5.0->ipywidgets>=7.5.1->pandas-profiling[notebook]) (4.1.0)\nRequirement already satisfied: jupyterlab-pygments in /shared-libs/python3.7/py-core/lib/python3.7/site-packages (from nbconvert->notebook>=4.4.1->widgetsnbextension~=3.5.0->ipywidgets>=7.5.1->pandas-profiling[notebook]) (0.1.2)\nRequirement already satisfied: testpath in /shared-libs/python3.7/py-core/lib/python3.7/site-packages (from nbconvert->notebook>=4.4.1->widgetsnbextension~=3.5.0->ipywidgets>=7.5.1->pandas-profiling[notebook]) (0.5.0)\nRequirement already satisfied: pandocfilters>=1.4.1 in /shared-libs/python3.7/py-core/lib/python3.7/site-packages (from nbconvert->notebook>=4.4.1->widgetsnbextension~=3.5.0->ipywidgets>=7.5.1->pandas-profiling[notebook]) (1.5.0)\nRequirement already satisfied: packaging in /shared-libs/python3.7/py-core/lib/python3.7/site-packages (from bleach->nbconvert->notebook>=4.4.1->widgetsnbextension~=3.5.0->ipywidgets>=7.5.1->pandas-profiling[notebook]) (21.0)\nRequirement already satisfied: webencodings in /shared-libs/python3.7/py-core/lib/python3.7/site-packages (from bleach->nbconvert->notebook>=4.4.1->widgetsnbextension~=3.5.0->ipywidgets>=7.5.1->pandas-profiling[notebook]) (0.5.1)\nBuilding wheels for collected packages: htmlmin, imagehash\n  Building wheel for htmlmin (setup.py) ... \u001b[?25ldone\n\u001b[?25h  Created wheel for htmlmin: filename=htmlmin-0.1.12-py3-none-any.whl size=27098 sha256=a36fbb63473c1cf037f120f7f68117cfef088a43defa506e553040f81fd86957\n  Stored in directory: /root/.cache/pip/wheels/70/e1/52/5b14d250ba868768823940c3229e9950d201a26d0bd3ee8655\n  Building wheel for imagehash (setup.py) ... \u001b[?25ldone\n\u001b[?25h  Created wheel for imagehash: filename=ImageHash-4.2.1-py2.py3-none-any.whl size=295207 sha256=68abb0407bc3872b54f44da99e056d6f937507f7e2afc0cf7d9909d09eff0d87\n  Stored in directory: /root/.cache/pip/wheels/4c/d5/59/5e3e297533ddb09407769762985d134135064c6831e29a914e\nSuccessfully built htmlmin imagehash\nInstalling collected packages: tangled-up-in-unicode, PyWavelets, networkx, multimethod, visions, imagehash, widgetsnbextension, phik, missingno, jupyterlab-widgets, htmlmin, pandas-profiling, ipywidgets\nSuccessfully installed PyWavelets-1.1.1 htmlmin-0.1.12 imagehash-4.2.1 ipywidgets-7.6.5 jupyterlab-widgets-1.0.2 missingno-0.5.0 multimethod-1.6 networkx-2.6.3 pandas-profiling-3.1.0 phik-0.12.0 tangled-up-in-unicode-0.1.0 visions-0.7.4 widgetsnbextension-3.5.1\n",
     "output_type": "stream"
    }
   ],
   "execution_count": null
  },
  {
   "cell_type": "code",
   "metadata": {
    "tags": [],
    "deepnote_to_be_reexecuted": true,
    "source_hash": "18170c59",
    "execution_start": 1633719889746,
    "execution_millis": 7998,
    "cell_id": "00003-fb5eda1b-0b9e-4712-a515-3170828c273e",
    "deepnote_cell_type": "code"
   },
   "source": "# Import packages\nimport pandas as pd\nimport spacy",
   "outputs": [
    {
     "name": "stderr",
     "text": "2021-10-08 19:04:52.594158: W tensorflow/stream_executor/platform/default/dso_loader.cc:60] Could not load dynamic library 'libcudart.so.11.0'; dlerror: libcudart.so.11.0: cannot open shared object file: No such file or directory\n2021-10-08 19:04:52.594221: I tensorflow/stream_executor/cuda/cudart_stub.cc:29] Ignore above cudart dlerror if you do not have a GPU set up on your machine.\n",
     "output_type": "stream"
    }
   ],
   "execution_count": null
  },
  {
   "cell_type": "markdown",
   "source": "I imported the data here.",
   "metadata": {
    "tags": [],
    "cell_id": "00004-44b766b4-1895-4628-b4d7-1f01cdf71de4",
    "deepnote_cell_type": "markdown"
   }
  },
  {
   "cell_type": "code",
   "metadata": {
    "tags": [],
    "deepnote_to_be_reexecuted": true,
    "source_hash": "162d9b1c",
    "execution_start": 1633719897763,
    "execution_millis": 340,
    "cell_id": "00005-c4334d04-d60e-4d4f-b88e-cebc54b5ac64",
    "deepnote_cell_type": "code"
   },
   "source": "# Import dataset and pandas\nraw_trainDF = pd.read_csv(\"/work/data/coronavirus_tweet_raw/Corona_NLP_train.csv\")\nraw_testDF = pd.read_csv(\"/work/data/coronavirus_tweet_raw/Corona_NLP_test.csv\")\nraw_trainDF.head()",
   "outputs": [
    {
     "output_type": "execute_result",
     "execution_count": 4,
     "data": {
      "application/vnd.deepnote.dataframe.v2+json": {
       "row_count": 5,
       "column_count": 6,
       "columns": [
        {
         "name": "UserName",
         "dtype": "int64",
         "stats": {
          "unique_count": 5,
          "nan_count": 0,
          "min": "3799",
          "max": "3803",
          "histogram": [
           {
            "bin_start": 3799,
            "bin_end": 3799.4,
            "count": 1
           },
           {
            "bin_start": 3799.4,
            "bin_end": 3799.8,
            "count": 0
           },
           {
            "bin_start": 3799.8,
            "bin_end": 3800.2,
            "count": 1
           },
           {
            "bin_start": 3800.2,
            "bin_end": 3800.6,
            "count": 0
           },
           {
            "bin_start": 3800.6,
            "bin_end": 3801,
            "count": 0
           },
           {
            "bin_start": 3801,
            "bin_end": 3801.4,
            "count": 1
           },
           {
            "bin_start": 3801.4,
            "bin_end": 3801.8,
            "count": 0
           },
           {
            "bin_start": 3801.8,
            "bin_end": 3802.2,
            "count": 1
           },
           {
            "bin_start": 3802.2,
            "bin_end": 3802.6,
            "count": 0
           },
           {
            "bin_start": 3802.6,
            "bin_end": 3803,
            "count": 1
           }
          ]
         }
        },
        {
         "name": "ScreenName",
         "dtype": "int64",
         "stats": {
          "unique_count": 5,
          "nan_count": 0,
          "min": "48751",
          "max": "48755",
          "histogram": [
           {
            "bin_start": 48751,
            "bin_end": 48751.4,
            "count": 1
           },
           {
            "bin_start": 48751.4,
            "bin_end": 48751.8,
            "count": 0
           },
           {
            "bin_start": 48751.8,
            "bin_end": 48752.2,
            "count": 1
           },
           {
            "bin_start": 48752.2,
            "bin_end": 48752.6,
            "count": 0
           },
           {
            "bin_start": 48752.6,
            "bin_end": 48753,
            "count": 0
           },
           {
            "bin_start": 48753,
            "bin_end": 48753.4,
            "count": 1
           },
           {
            "bin_start": 48753.4,
            "bin_end": 48753.8,
            "count": 0
           },
           {
            "bin_start": 48753.8,
            "bin_end": 48754.2,
            "count": 1
           },
           {
            "bin_start": 48754.2,
            "bin_end": 48754.6,
            "count": 0
           },
           {
            "bin_start": 48754.6,
            "bin_end": 48755,
            "count": 1
           }
          ]
         }
        },
        {
         "name": "Location",
         "dtype": "object",
         "stats": {
          "unique_count": 3,
          "nan_count": 2,
          "categories": [
           {
            "name": "London",
            "count": 1
           },
           {
            "name": "2 others",
            "count": 2
           },
           {
            "name": "Missing",
            "count": 2
           }
          ]
         }
        },
        {
         "name": "TweetAt",
         "dtype": "object",
         "stats": {
          "unique_count": 1,
          "nan_count": 0,
          "categories": [
           {
            "name": "16-03-2020",
            "count": 5
           }
          ]
         }
        },
        {
         "name": "OriginalTweet",
         "dtype": "object",
         "stats": {
          "unique_count": 5,
          "nan_count": 0,
          "categories": [
           {
            "name": "@MeNyrbie @Phil_Gahan @Chrisitv https://t.co/iFz9FAn2Pa and https://t.co/xX6ghGFzCC and https://t.co/I2NlzdxNo8",
            "count": 1
           },
           {
            "name": "advice Talk to your neighbours family to exchange phone numbers create contact list with phone numbers of neighbours schools employer chemist GP set up online shopping accounts if poss adequate supplies of regular meds but not over order",
            "count": 1
           },
           {
            "name": "3 others",
            "count": 3
           }
          ]
         }
        },
        {
         "name": "Sentiment",
         "dtype": "object",
         "stats": {
          "unique_count": 3,
          "nan_count": 0,
          "categories": [
           {
            "name": "Positive",
            "count": 3
           },
           {
            "name": "Neutral",
            "count": 1
           },
           {
            "name": "Extremely Negative",
            "count": 1
           }
          ]
         }
        },
        {
         "name": "_deepnote_index_column",
         "dtype": "int64"
        }
       ],
       "rows_top": [
        {
         "UserName": 3799,
         "ScreenName": 48751,
         "Location": "London",
         "TweetAt": "16-03-2020",
         "OriginalTweet": "@MeNyrbie @Phil_Gahan @Chrisitv https://t.co/iFz9FAn2Pa and https://t.co/xX6ghGFzCC and https://t.c…",
         "Sentiment": "Neutral",
         "_deepnote_index_column": 0
        },
        {
         "UserName": 3800,
         "ScreenName": 48752,
         "Location": "UK",
         "TweetAt": "16-03-2020",
         "OriginalTweet": "advice Talk to your neighbours family to exchange phone numbers create contact list with phone numb…",
         "Sentiment": "Positive",
         "_deepnote_index_column": 1
        },
        {
         "UserName": 3801,
         "ScreenName": 48753,
         "Location": "Vagabonds",
         "TweetAt": "16-03-2020",
         "OriginalTweet": "Coronavirus Australia: Woolworths to give elderly, disabled dedicated shopping hours amid COVID-19 …",
         "Sentiment": "Positive",
         "_deepnote_index_column": 2
        },
        {
         "UserName": 3802,
         "ScreenName": 48754,
         "Location": "nan",
         "TweetAt": "16-03-2020",
         "OriginalTweet": "My food stock is not the only one which is empty...\r\r\n\r\r\nPLEASE, don't panic, THERE WILL BE ENOUGH …",
         "Sentiment": "Positive",
         "_deepnote_index_column": 3
        },
        {
         "UserName": 3803,
         "ScreenName": 48755,
         "Location": "nan",
         "TweetAt": "16-03-2020",
         "OriginalTweet": "Me, ready to go at supermarket during the #COVID19 outbreak.\r\r\n\r\r\nNot because I'm paranoid, but bec…",
         "Sentiment": "Extremely Negative",
         "_deepnote_index_column": 4
        }
       ],
       "rows_bottom": null
      },
      "text/plain": "   UserName  ScreenName   Location     TweetAt  \\\n0      3799       48751     London  16-03-2020   \n1      3800       48752         UK  16-03-2020   \n2      3801       48753  Vagabonds  16-03-2020   \n3      3802       48754        NaN  16-03-2020   \n4      3803       48755        NaN  16-03-2020   \n\n                                       OriginalTweet           Sentiment  \n0  @MeNyrbie @Phil_Gahan @Chrisitv https://t.co/i...             Neutral  \n1  advice Talk to your neighbours family to excha...            Positive  \n2  Coronavirus Australia: Woolworths to give elde...            Positive  \n3  My food stock is not the only one which is emp...            Positive  \n4  Me, ready to go at supermarket during the #COV...  Extremely Negative  ",
      "text/html": "<div>\n<style scoped>\n    .dataframe tbody tr th:only-of-type {\n        vertical-align: middle;\n    }\n\n    .dataframe tbody tr th {\n        vertical-align: top;\n    }\n\n    .dataframe thead th {\n        text-align: right;\n    }\n</style>\n<table border=\"1\" class=\"dataframe\">\n  <thead>\n    <tr style=\"text-align: right;\">\n      <th></th>\n      <th>UserName</th>\n      <th>ScreenName</th>\n      <th>Location</th>\n      <th>TweetAt</th>\n      <th>OriginalTweet</th>\n      <th>Sentiment</th>\n    </tr>\n  </thead>\n  <tbody>\n    <tr>\n      <th>0</th>\n      <td>3799</td>\n      <td>48751</td>\n      <td>London</td>\n      <td>16-03-2020</td>\n      <td>@MeNyrbie @Phil_Gahan @Chrisitv https://t.co/i...</td>\n      <td>Neutral</td>\n    </tr>\n    <tr>\n      <th>1</th>\n      <td>3800</td>\n      <td>48752</td>\n      <td>UK</td>\n      <td>16-03-2020</td>\n      <td>advice Talk to your neighbours family to excha...</td>\n      <td>Positive</td>\n    </tr>\n    <tr>\n      <th>2</th>\n      <td>3801</td>\n      <td>48753</td>\n      <td>Vagabonds</td>\n      <td>16-03-2020</td>\n      <td>Coronavirus Australia: Woolworths to give elde...</td>\n      <td>Positive</td>\n    </tr>\n    <tr>\n      <th>3</th>\n      <td>3802</td>\n      <td>48754</td>\n      <td>NaN</td>\n      <td>16-03-2020</td>\n      <td>My food stock is not the only one which is emp...</td>\n      <td>Positive</td>\n    </tr>\n    <tr>\n      <th>4</th>\n      <td>3803</td>\n      <td>48755</td>\n      <td>NaN</td>\n      <td>16-03-2020</td>\n      <td>Me, ready to go at supermarket during the #COV...</td>\n      <td>Extremely Negative</td>\n    </tr>\n  </tbody>\n</table>\n</div>"
     },
     "metadata": {}
    }
   ],
   "execution_count": null
  },
  {
   "cell_type": "code",
   "metadata": {
    "tags": [],
    "deepnote_to_be_reexecuted": true,
    "source_hash": "1734b6f0",
    "execution_start": 1633719898100,
    "execution_millis": 5,
    "cell_id": "00006-a1b712c2-6254-4b2f-a504-3bb9619c6db5",
    "deepnote_cell_type": "code"
   },
   "source": "# Copy the values of the data for further uses\ntrainDF = raw_trainDF\ntestDF = raw_testDF",
   "outputs": [],
   "execution_count": null
  },
  {
   "cell_type": "code",
   "source": "",
   "metadata": {
    "deepnote_to_be_reexecuted": true,
    "source_hash": "b623e53d",
    "execution_start": 1633710516790,
    "execution_millis": 0,
    "cell_id": "00007-e24030d7-294d-498b-93ef-04eb30cc5397",
    "deepnote_cell_type": "visualization"
   },
   "execution_count": null,
   "outputs": []
  },
  {
   "cell_type": "markdown",
   "source": "### Reorganized the data\nDue to the observation during the EDA process, I decided to concatenate the dataset and resplit them.",
   "metadata": {
    "tags": [],
    "cell_id": "00015-fbdd4eff-bdfe-4ea3-8cd0-853b6260a38f",
    "deepnote_cell_type": "markdown"
   }
  },
  {
   "cell_type": "code",
   "metadata": {
    "tags": [],
    "deepnote_to_be_reexecuted": true,
    "source_hash": "44ec3cf3",
    "execution_start": 1633719899589,
    "execution_millis": 779,
    "allow_embed": "code_output",
    "cell_id": "00016-c568566c-0e9f-464d-8fed-63c6b2d260b9",
    "deepnote_cell_type": "code"
   },
   "source": "# Train test split\nfrom sklearn.model_selection import train_test_split\n\n# Concat the two datasets and split them\nallDF = pd.concat((trainDF, testDF), ignore_index=True)\n\n# Split the train, test, validation set\ntrainDF, testDF = train_test_split(allDF, test_size = 0.2)\ntestDF, validDF = train_test_split(testDF, test_size = 0.2)\n\n# Print values\nprint(\"Train:\",len(trainDF), \"Test:\", len(testDF),\"Valid:\", len(validDF))",
   "outputs": [
    {
     "name": "stdout",
     "text": "Train: 35964 Test: 7192 Valid: 1799\n",
     "output_type": "stream"
    }
   ],
   "execution_count": null
  },
  {
   "cell_type": "markdown",
   "source": "## Preprocessing\nThis is the first part of the preprocessing where we create all parts of the pipeline except for the models.\n\n### Structure\n- Label encode\n- Contextual Spell Check\n- Tokenizer\n- Pipeline",
   "metadata": {
    "tags": [],
    "cell_id": "00022-19e3af6c-83e5-4f5c-963c-3a6a760a994d",
    "deepnote_cell_type": "markdown"
   }
  },
  {
   "cell_type": "code",
   "metadata": {
    "tags": [],
    "deepnote_to_be_reexecuted": true,
    "source_hash": "296dee69",
    "execution_start": 1633720096251,
    "execution_millis": 15387,
    "cell_id": "00023-df8c722e-9a31-4d0a-8b6d-733174e8636f",
    "deepnote_cell_type": "code"
   },
   "source": "# Install package for Contextual Spell Check\n!pip install contextualSpellCheck\n!pip install ipywidgets",
   "outputs": [
    {
     "name": "stdout",
     "text": "Collecting contextualSpellCheck\n  Downloading contextualSpellCheck-0.4.1-py3-none-any.whl (132 kB)\n\u001b[K     |████████████████████████████████| 132 kB 22.2 MB/s \n\u001b[?25hCollecting editdistance==0.5.3\n  Downloading editdistance-0.5.3-cp37-cp37m-manylinux1_x86_64.whl (179 kB)\n\u001b[K     |████████████████████████████████| 179 kB 39.3 MB/s \n\u001b[?25hRequirement already satisfied: torch>=1.4 in /shared-libs/python3.7/py/lib/python3.7/site-packages (from contextualSpellCheck) (1.9.1)\nRequirement already satisfied: spacy>=3.0.0 in /shared-libs/python3.7/py/lib/python3.7/site-packages (from contextualSpellCheck) (3.1.3)\nCollecting transformers>=4.0.0\n  Downloading transformers-4.11.3-py3-none-any.whl (2.9 MB)\n\u001b[K     |████████████████████████████████| 2.9 MB 39.6 MB/s \n\u001b[?25hRequirement already satisfied: tqdm<5.0.0,>=4.38.0 in /shared-libs/python3.7/py/lib/python3.7/site-packages (from spacy>=3.0.0->contextualSpellCheck) (4.62.3)\nRequirement already satisfied: requests<3.0.0,>=2.13.0 in /shared-libs/python3.7/py/lib/python3.7/site-packages (from spacy>=3.0.0->contextualSpellCheck) (2.26.0)\nRequirement already satisfied: packaging>=20.0 in /shared-libs/python3.7/py-core/lib/python3.7/site-packages (from spacy>=3.0.0->contextualSpellCheck) (21.0)\nRequirement already satisfied: thinc<8.1.0,>=8.0.9 in /shared-libs/python3.7/py/lib/python3.7/site-packages (from spacy>=3.0.0->contextualSpellCheck) (8.0.10)\nRequirement already satisfied: spacy-legacy<3.1.0,>=3.0.8 in /shared-libs/python3.7/py/lib/python3.7/site-packages (from spacy>=3.0.0->contextualSpellCheck) (3.0.8)\nRequirement already satisfied: murmurhash<1.1.0,>=0.28.0 in /shared-libs/python3.7/py/lib/python3.7/site-packages (from spacy>=3.0.0->contextualSpellCheck) (1.0.5)\nRequirement already satisfied: setuptools in /root/venv/lib/python3.7/site-packages (from spacy>=3.0.0->contextualSpellCheck) (58.1.0)\nRequirement already satisfied: typing-extensions<4.0.0.0,>=3.7.4 in /shared-libs/python3.7/py-core/lib/python3.7/site-packages (from spacy>=3.0.0->contextualSpellCheck) (3.10.0.2)\nRequirement already satisfied: numpy>=1.15.0 in /shared-libs/python3.7/py/lib/python3.7/site-packages (from spacy>=3.0.0->contextualSpellCheck) (1.19.5)\nRequirement already satisfied: jinja2 in /shared-libs/python3.7/py-core/lib/python3.7/site-packages (from spacy>=3.0.0->contextualSpellCheck) (3.0.2)\nRequirement already satisfied: catalogue<2.1.0,>=2.0.6 in /shared-libs/python3.7/py/lib/python3.7/site-packages (from spacy>=3.0.0->contextualSpellCheck) (2.0.6)\nRequirement already satisfied: pathy>=0.3.5 in /shared-libs/python3.7/py/lib/python3.7/site-packages (from spacy>=3.0.0->contextualSpellCheck) (0.6.0)\nRequirement already satisfied: preshed<3.1.0,>=3.0.2 in /shared-libs/python3.7/py/lib/python3.7/site-packages (from spacy>=3.0.0->contextualSpellCheck) (3.0.5)\nRequirement already satisfied: typer<0.5.0,>=0.3.0 in /shared-libs/python3.7/py/lib/python3.7/site-packages (from spacy>=3.0.0->contextualSpellCheck) (0.4.0)\nRequirement already satisfied: cymem<2.1.0,>=2.0.2 in /shared-libs/python3.7/py/lib/python3.7/site-packages (from spacy>=3.0.0->contextualSpellCheck) (2.0.5)\nRequirement already satisfied: srsly<3.0.0,>=2.4.1 in /shared-libs/python3.7/py/lib/python3.7/site-packages (from spacy>=3.0.0->contextualSpellCheck) (2.4.1)\nRequirement already satisfied: pydantic!=1.8,!=1.8.1,<1.9.0,>=1.7.4 in /shared-libs/python3.7/py/lib/python3.7/site-packages (from spacy>=3.0.0->contextualSpellCheck) (1.8.2)\nRequirement already satisfied: wasabi<1.1.0,>=0.8.1 in /shared-libs/python3.7/py/lib/python3.7/site-packages (from spacy>=3.0.0->contextualSpellCheck) (0.8.2)\nRequirement already satisfied: blis<0.8.0,>=0.4.0 in /shared-libs/python3.7/py/lib/python3.7/site-packages (from spacy>=3.0.0->contextualSpellCheck) (0.7.4)\nRequirement already satisfied: zipp>=0.5 in /shared-libs/python3.7/py-core/lib/python3.7/site-packages (from catalogue<2.1.0,>=2.0.6->spacy>=3.0.0->contextualSpellCheck) (3.6.0)\nRequirement already satisfied: pyparsing>=2.0.2 in /shared-libs/python3.7/py-core/lib/python3.7/site-packages (from packaging>=20.0->spacy>=3.0.0->contextualSpellCheck) (2.4.7)\nRequirement already satisfied: smart-open<6.0.0,>=5.0.0 in /shared-libs/python3.7/py/lib/python3.7/site-packages (from pathy>=0.3.5->spacy>=3.0.0->contextualSpellCheck) (5.2.1)\nRequirement already satisfied: certifi>=2017.4.17 in /shared-libs/python3.7/py/lib/python3.7/site-packages (from requests<3.0.0,>=2.13.0->spacy>=3.0.0->contextualSpellCheck) (2021.5.30)\nRequirement already satisfied: urllib3<1.27,>=1.21.1 in /shared-libs/python3.7/py/lib/python3.7/site-packages (from requests<3.0.0,>=2.13.0->spacy>=3.0.0->contextualSpellCheck) (1.26.7)\nRequirement already satisfied: idna<4,>=2.5 in /shared-libs/python3.7/py-core/lib/python3.7/site-packages (from requests<3.0.0,>=2.13.0->spacy>=3.0.0->contextualSpellCheck) (3.2)\nRequirement already satisfied: charset-normalizer~=2.0.0 in /shared-libs/python3.7/py/lib/python3.7/site-packages (from requests<3.0.0,>=2.13.0->spacy>=3.0.0->contextualSpellCheck) (2.0.6)\nRequirement already satisfied: importlib-metadata in /shared-libs/python3.7/py-core/lib/python3.7/site-packages (from transformers>=4.0.0->contextualSpellCheck) (4.8.1)\nRequirement already satisfied: pyyaml>=5.1 in /shared-libs/python3.7/py/lib/python3.7/site-packages (from transformers>=4.0.0->contextualSpellCheck) (5.4.1)\nRequirement already satisfied: filelock in /shared-libs/python3.7/py-core/lib/python3.7/site-packages (from transformers>=4.0.0->contextualSpellCheck) (3.3.0)\nRequirement already satisfied: regex!=2019.12.17 in /shared-libs/python3.7/py/lib/python3.7/site-packages (from transformers>=4.0.0->contextualSpellCheck) (2021.9.30)\nCollecting huggingface-hub>=0.0.17\n  Downloading huggingface_hub-0.0.19-py3-none-any.whl (56 kB)\n\u001b[K     |████████████████████████████████| 56 kB 8.2 MB/s \n\u001b[?25hCollecting sacremoses\n  Downloading sacremoses-0.0.46-py3-none-any.whl (895 kB)\n\u001b[K     |████████████████████████████████| 895 kB 28.4 MB/s \n\u001b[?25hCollecting tokenizers<0.11,>=0.10.1\n  Downloading tokenizers-0.10.3-cp37-cp37m-manylinux_2_5_x86_64.manylinux1_x86_64.manylinux_2_12_x86_64.manylinux2010_x86_64.whl (3.3 MB)\n\u001b[K     |████████████████████████████████| 3.3 MB 40.5 MB/s \n\u001b[?25hRequirement already satisfied: click<9.0.0,>=7.1.1 in /shared-libs/python3.7/py/lib/python3.7/site-packages (from typer<0.5.0,>=0.3.0->spacy>=3.0.0->contextualSpellCheck) (8.0.1)\nRequirement already satisfied: MarkupSafe>=2.0 in /shared-libs/python3.7/py-core/lib/python3.7/site-packages (from jinja2->spacy>=3.0.0->contextualSpellCheck) (2.0.1)\nRequirement already satisfied: six in /shared-libs/python3.7/py-core/lib/python3.7/site-packages (from sacremoses->transformers>=4.0.0->contextualSpellCheck) (1.16.0)\nRequirement already satisfied: joblib in /shared-libs/python3.7/py/lib/python3.7/site-packages (from sacremoses->transformers>=4.0.0->contextualSpellCheck) (1.0.1)\nInstalling collected packages: tokenizers, sacremoses, huggingface-hub, transformers, editdistance, contextualSpellCheck\nSuccessfully installed contextualSpellCheck-0.4.1 editdistance-0.5.3 huggingface-hub-0.0.19 sacremoses-0.0.46 tokenizers-0.10.3 transformers-4.11.3\nRequirement already satisfied: ipywidgets in /root/venv/lib/python3.7/site-packages (7.6.5)\nRequirement already satisfied: nbformat>=4.2.0 in /shared-libs/python3.7/py-core/lib/python3.7/site-packages (from ipywidgets) (5.1.3)\nRequirement already satisfied: widgetsnbextension~=3.5.0 in /root/venv/lib/python3.7/site-packages (from ipywidgets) (3.5.1)\nRequirement already satisfied: ipython>=4.0.0 in /shared-libs/python3.7/py-core/lib/python3.7/site-packages (from ipywidgets) (7.28.0)\nRequirement already satisfied: traitlets>=4.3.1 in /shared-libs/python3.7/py-core/lib/python3.7/site-packages (from ipywidgets) (5.1.0)\nRequirement already satisfied: ipykernel>=4.5.1 in /shared-libs/python3.7/py-core/lib/python3.7/site-packages (from ipywidgets) (6.4.1)\nRequirement already satisfied: ipython-genutils~=0.2.0 in /shared-libs/python3.7/py-core/lib/python3.7/site-packages (from ipywidgets) (0.2.0)\nRequirement already satisfied: jupyterlab-widgets>=1.0.0 in /root/venv/lib/python3.7/site-packages (from ipywidgets) (1.0.2)\nRequirement already satisfied: jupyter-client<8.0 in /shared-libs/python3.7/py-core/lib/python3.7/site-packages (from ipykernel>=4.5.1->ipywidgets) (7.0.6)\nRequirement already satisfied: matplotlib-inline<0.2.0,>=0.1.0 in /shared-libs/python3.7/py-core/lib/python3.7/site-packages (from ipykernel>=4.5.1->ipywidgets) (0.1.3)\nRequirement already satisfied: argcomplete>=1.12.3 in /shared-libs/python3.7/py-core/lib/python3.7/site-packages (from ipykernel>=4.5.1->ipywidgets) (1.12.3)\nRequirement already satisfied: importlib-metadata<5 in /shared-libs/python3.7/py-core/lib/python3.7/site-packages (from ipykernel>=4.5.1->ipywidgets) (4.8.1)\nRequirement already satisfied: debugpy<2.0,>=1.0.0 in /shared-libs/python3.7/py-core/lib/python3.7/site-packages (from ipykernel>=4.5.1->ipywidgets) (1.5.0)\nRequirement already satisfied: tornado<7.0,>=4.2 in /shared-libs/python3.7/py-core/lib/python3.7/site-packages (from ipykernel>=4.5.1->ipywidgets) (6.1)\nRequirement already satisfied: typing-extensions>=3.6.4 in /shared-libs/python3.7/py-core/lib/python3.7/site-packages (from importlib-metadata<5->ipykernel>=4.5.1->ipywidgets) (3.10.0.2)\nRequirement already satisfied: zipp>=0.5 in /shared-libs/python3.7/py-core/lib/python3.7/site-packages (from importlib-metadata<5->ipykernel>=4.5.1->ipywidgets) (3.6.0)\nRequirement already satisfied: pickleshare in /shared-libs/python3.7/py-core/lib/python3.7/site-packages (from ipython>=4.0.0->ipywidgets) (0.7.5)\nRequirement already satisfied: prompt-toolkit!=3.0.0,!=3.0.1,<3.1.0,>=2.0.0 in /shared-libs/python3.7/py-core/lib/python3.7/site-packages (from ipython>=4.0.0->ipywidgets) (3.0.20)\nRequirement already satisfied: pygments in /shared-libs/python3.7/py-core/lib/python3.7/site-packages (from ipython>=4.0.0->ipywidgets) (2.10.0)\nRequirement already satisfied: decorator in /shared-libs/python3.7/py-core/lib/python3.7/site-packages (from ipython>=4.0.0->ipywidgets) (5.1.0)\nRequirement already satisfied: backcall in /shared-libs/python3.7/py-core/lib/python3.7/site-packages (from ipython>=4.0.0->ipywidgets) (0.2.0)\nRequirement already satisfied: pexpect>4.3 in /shared-libs/python3.7/py-core/lib/python3.7/site-packages (from ipython>=4.0.0->ipywidgets) (4.8.0)\nRequirement already satisfied: setuptools>=18.5 in /root/venv/lib/python3.7/site-packages (from ipython>=4.0.0->ipywidgets) (58.1.0)\nRequirement already satisfied: jedi>=0.16 in /shared-libs/python3.7/py-core/lib/python3.7/site-packages (from ipython>=4.0.0->ipywidgets) (0.17.2)\nRequirement already satisfied: parso<0.8.0,>=0.7.0 in /shared-libs/python3.7/py-core/lib/python3.7/site-packages (from jedi>=0.16->ipython>=4.0.0->ipywidgets) (0.7.1)\nRequirement already satisfied: entrypoints in /shared-libs/python3.7/py-core/lib/python3.7/site-packages (from jupyter-client<8.0->ipykernel>=4.5.1->ipywidgets) (0.3)\nRequirement already satisfied: nest-asyncio>=1.5 in /shared-libs/python3.7/py-core/lib/python3.7/site-packages (from jupyter-client<8.0->ipykernel>=4.5.1->ipywidgets) (1.5.1)\nRequirement already satisfied: jupyter-core>=4.6.0 in /shared-libs/python3.7/py-core/lib/python3.7/site-packages (from jupyter-client<8.0->ipykernel>=4.5.1->ipywidgets) (4.8.1)\nRequirement already satisfied: pyzmq>=13 in /shared-libs/python3.7/py-core/lib/python3.7/site-packages (from jupyter-client<8.0->ipykernel>=4.5.1->ipywidgets) (22.3.0)\nRequirement already satisfied: python-dateutil>=2.1 in /shared-libs/python3.7/py-core/lib/python3.7/site-packages (from jupyter-client<8.0->ipykernel>=4.5.1->ipywidgets) (2.8.2)\nRequirement already satisfied: jsonschema!=2.5.0,>=2.4 in /shared-libs/python3.7/py-core/lib/python3.7/site-packages (from nbformat>=4.2.0->ipywidgets) (4.0.1)\nRequirement already satisfied: attrs>=17.4.0 in /shared-libs/python3.7/py-core/lib/python3.7/site-packages (from jsonschema!=2.5.0,>=2.4->nbformat>=4.2.0->ipywidgets) (21.2.0)\nRequirement already satisfied: pyrsistent!=0.17.0,!=0.17.1,!=0.17.2,>=0.14.0 in /shared-libs/python3.7/py-core/lib/python3.7/site-packages (from jsonschema!=2.5.0,>=2.4->nbformat>=4.2.0->ipywidgets) (0.18.0)\nRequirement already satisfied: ptyprocess>=0.5 in /shared-libs/python3.7/py-core/lib/python3.7/site-packages (from pexpect>4.3->ipython>=4.0.0->ipywidgets) (0.7.0)\nRequirement already satisfied: wcwidth in /shared-libs/python3.7/py-core/lib/python3.7/site-packages (from prompt-toolkit!=3.0.0,!=3.0.1,<3.1.0,>=2.0.0->ipython>=4.0.0->ipywidgets) (0.2.5)\nRequirement already satisfied: six>=1.5 in /shared-libs/python3.7/py-core/lib/python3.7/site-packages (from python-dateutil>=2.1->jupyter-client<8.0->ipykernel>=4.5.1->ipywidgets) (1.16.0)\nRequirement already satisfied: notebook>=4.4.1 in /shared-libs/python3.7/py-core/lib/python3.7/site-packages (from widgetsnbextension~=3.5.0->ipywidgets) (6.4.4)\nRequirement already satisfied: argon2-cffi in /shared-libs/python3.7/py-core/lib/python3.7/site-packages (from notebook>=4.4.1->widgetsnbextension~=3.5.0->ipywidgets) (21.1.0)\nRequirement already satisfied: terminado>=0.8.3 in /shared-libs/python3.7/py-core/lib/python3.7/site-packages (from notebook>=4.4.1->widgetsnbextension~=3.5.0->ipywidgets) (0.12.1)\nRequirement already satisfied: prometheus-client in /shared-libs/python3.7/py-core/lib/python3.7/site-packages (from notebook>=4.4.1->widgetsnbextension~=3.5.0->ipywidgets) (0.11.0)\nRequirement already satisfied: jinja2 in /shared-libs/python3.7/py-core/lib/python3.7/site-packages (from notebook>=4.4.1->widgetsnbextension~=3.5.0->ipywidgets) (3.0.2)\nRequirement already satisfied: nbconvert in /shared-libs/python3.7/py-core/lib/python3.7/site-packages (from notebook>=4.4.1->widgetsnbextension~=3.5.0->ipywidgets) (6.2.0)\nRequirement already satisfied: Send2Trash>=1.5.0 in /shared-libs/python3.7/py-core/lib/python3.7/site-packages (from notebook>=4.4.1->widgetsnbextension~=3.5.0->ipywidgets) (1.8.0)\nRequirement already satisfied: cffi>=1.0.0 in /shared-libs/python3.7/py-core/lib/python3.7/site-packages (from argon2-cffi->notebook>=4.4.1->widgetsnbextension~=3.5.0->ipywidgets) (1.14.6)\nRequirement already satisfied: pycparser in /shared-libs/python3.7/py-core/lib/python3.7/site-packages (from cffi>=1.0.0->argon2-cffi->notebook>=4.4.1->widgetsnbextension~=3.5.0->ipywidgets) (2.20)\nRequirement already satisfied: MarkupSafe>=2.0 in /shared-libs/python3.7/py-core/lib/python3.7/site-packages (from jinja2->notebook>=4.4.1->widgetsnbextension~=3.5.0->ipywidgets) (2.0.1)\nRequirement already satisfied: jupyterlab-pygments in /shared-libs/python3.7/py-core/lib/python3.7/site-packages (from nbconvert->notebook>=4.4.1->widgetsnbextension~=3.5.0->ipywidgets) (0.1.2)\nRequirement already satisfied: bleach in /shared-libs/python3.7/py-core/lib/python3.7/site-packages (from nbconvert->notebook>=4.4.1->widgetsnbextension~=3.5.0->ipywidgets) (4.1.0)\nRequirement already satisfied: nbclient<0.6.0,>=0.5.0 in /shared-libs/python3.7/py-core/lib/python3.7/site-packages (from nbconvert->notebook>=4.4.1->widgetsnbextension~=3.5.0->ipywidgets) (0.5.4)\nRequirement already satisfied: mistune<2,>=0.8.1 in /shared-libs/python3.7/py-core/lib/python3.7/site-packages (from nbconvert->notebook>=4.4.1->widgetsnbextension~=3.5.0->ipywidgets) (0.8.4)\nRequirement already satisfied: defusedxml in /shared-libs/python3.7/py-core/lib/python3.7/site-packages (from nbconvert->notebook>=4.4.1->widgetsnbextension~=3.5.0->ipywidgets) (0.7.1)\nRequirement already satisfied: pandocfilters>=1.4.1 in /shared-libs/python3.7/py-core/lib/python3.7/site-packages (from nbconvert->notebook>=4.4.1->widgetsnbextension~=3.5.0->ipywidgets) (1.5.0)\nRequirement already satisfied: testpath in /shared-libs/python3.7/py-core/lib/python3.7/site-packages (from nbconvert->notebook>=4.4.1->widgetsnbextension~=3.5.0->ipywidgets) (0.5.0)\nRequirement already satisfied: packaging in /shared-libs/python3.7/py-core/lib/python3.7/site-packages (from bleach->nbconvert->notebook>=4.4.1->widgetsnbextension~=3.5.0->ipywidgets) (21.0)\nRequirement already satisfied: webencodings in /shared-libs/python3.7/py-core/lib/python3.7/site-packages (from bleach->nbconvert->notebook>=4.4.1->widgetsnbextension~=3.5.0->ipywidgets) (0.5.1)\nRequirement already satisfied: pyparsing>=2.0.2 in /shared-libs/python3.7/py-core/lib/python3.7/site-packages (from packaging->bleach->nbconvert->notebook>=4.4.1->widgetsnbextension~=3.5.0->ipywidgets) (2.4.7)\n",
     "output_type": "stream"
    }
   ],
   "execution_count": null
  },
  {
   "cell_type": "markdown",
   "source": "### Encode the Labels\nI used `scikit-learn` to encoder the labels from 1 to 5.",
   "metadata": {
    "tags": [],
    "cell_id": "00024-46d731db-5317-4f81-aeb5-19e026c2c217",
    "deepnote_cell_type": "markdown"
   }
  },
  {
   "cell_type": "code",
   "metadata": {
    "tags": [],
    "deepnote_to_be_reexecuted": true,
    "source_hash": "e1346d87",
    "execution_start": 1633720111661,
    "execution_millis": 32,
    "cell_id": "00025-5ff74687-37af-4981-bd0d-7d77c52e639b",
    "deepnote_cell_type": "code"
   },
   "source": "# Label Encoder for classes in sentiment \nfrom sklearn.preprocessing import LabelEncoder\n\nencoder = LabelEncoder()\ntrainDF.encoded_sentiment = encoder.fit_transform(trainDF.Sentiment)\ntrainDF.encoded_sentiment\n\nencoder = LabelEncoder()\ntestDF.encoded_sentiment = encoder.fit_transform(testDF.Sentiment)\ntestDF.encoded_sentiment",
   "outputs": [
    {
     "name": "stderr",
     "text": "/shared-libs/python3.7/py-core/lib/python3.7/site-packages/ipykernel_launcher.py:5: UserWarning: Pandas doesn't allow columns to be created via a new attribute name - see https://pandas.pydata.org/pandas-docs/stable/indexing.html#attribute-access\n  \"\"\"\n/shared-libs/python3.7/py-core/lib/python3.7/site-packages/ipykernel_launcher.py:9: UserWarning: Pandas doesn't allow columns to be created via a new attribute name - see https://pandas.pydata.org/pandas-docs/stable/indexing.html#attribute-access\n  if __name__ == '__main__':\n",
     "output_type": "stream"
    },
    {
     "output_type": "execute_result",
     "execution_count": 18,
     "data": {
      "text/plain": "array([1, 1, 0, ..., 0, 1, 1])"
     },
     "metadata": {}
    }
   ],
   "execution_count": null
  },
  {
   "cell_type": "markdown",
   "source": "### Spelling Correction\nI use `contextualSpellCheck` package for fuzzy matching and correcting typos.",
   "metadata": {
    "tags": [],
    "cell_id": "00026-184d54d7-9ee2-4bca-98fe-0264efcf2806",
    "deepnote_cell_type": "markdown"
   }
  },
  {
   "cell_type": "code",
   "metadata": {
    "tags": [],
    "deepnote_to_be_reexecuted": true,
    "source_hash": "d7658d08",
    "execution_start": 1633720111690,
    "execution_millis": 22808,
    "cell_id": "00027-283d43cf-21fb-494a-99cc-44a507302596",
    "deepnote_cell_type": "code"
   },
   "source": "# Correct Spelling\nimport contextualSpellCheck\n\n# Download spacy English library\nnlp = spacy.load('en_core_web_sm')\n\n# Add contextual spellchecker to the pipeline\n\nnlp.add_pipe(\"contextual spellchecker\", config={\"max_edit_dist\": 5})    \n\n# create token of text\ndoc = nlp(sample_text)\n\nprint(doc._.outcome_spellCheck)",
   "outputs": [
    {
     "data": {
      "text/plain": "Downloading:   0%|          | 0.00/29.0 [00:00<?, ?B/s]",
      "application/vnd.jupyter.widget-view+json": {
       "version_major": 2,
       "version_minor": 0,
       "model_id": "903382c187c3429d9131fafee55dfa0b"
      }
     },
     "metadata": {},
     "output_type": "display_data"
    },
    {
     "data": {
      "text/plain": "Downloading:   0%|          | 0.00/570 [00:00<?, ?B/s]",
      "application/vnd.jupyter.widget-view+json": {
       "version_major": 2,
       "version_minor": 0,
       "model_id": "cf4d089035c3444c8a10c5cc32697228"
      }
     },
     "metadata": {},
     "output_type": "display_data"
    },
    {
     "data": {
      "text/plain": "Downloading:   0%|          | 0.00/208k [00:00<?, ?B/s]",
      "application/vnd.jupyter.widget-view+json": {
       "version_major": 2,
       "version_minor": 0,
       "model_id": "8a38e00a07ef473582e1548013f1b1f1"
      }
     },
     "metadata": {},
     "output_type": "display_data"
    },
    {
     "data": {
      "text/plain": "Downloading:   0%|          | 0.00/426k [00:00<?, ?B/s]",
      "application/vnd.jupyter.widget-view+json": {
       "version_major": 2,
       "version_minor": 0,
       "model_id": "e142bdd74d5f44fc83f005e0586e229d"
      }
     },
     "metadata": {},
     "output_type": "display_data"
    },
    {
     "data": {
      "text/plain": "Downloading:   0%|          | 0.00/416M [00:00<?, ?B/s]",
      "application/vnd.jupyter.widget-view+json": {
       "version_major": 2,
       "version_minor": 0,
       "model_id": "9e6699a96dd74b0cb0e74221348d6f1d"
      }
     },
     "metadata": {},
     "output_type": "display_data"
    },
    {
     "name": "stdout",
     "text": "advice Talk to your neighbours family to exchange phone numbers create contact list with phone numbers of neighbours schools employer chemist GP set up online shopping accounts if has adequate supplies of regular meals but not over order\n",
     "output_type": "stream"
    }
   ],
   "execution_count": null
  },
  {
   "cell_type": "markdown",
   "source": "### Tokenization Pipeline\nThis is the entire pipeline for tokenization, including removing urls, punctuations, spelling correction, and lemmatization.",
   "metadata": {
    "tags": [],
    "cell_id": "00028-fcaf94f2-6f6c-4846-a91e-e6e9324d3285",
    "deepnote_cell_type": "markdown"
   }
  },
  {
   "cell_type": "code",
   "metadata": {
    "tags": [],
    "deepnote_to_be_reexecuted": true,
    "source_hash": "2005a89e",
    "execution_start": 1633720495081,
    "execution_millis": 4764,
    "allow_embed": "code_output",
    "cell_id": "00029-d8128128-388e-48fc-ab92-fb42d2a7c11a",
    "deepnote_cell_type": "code"
   },
   "source": "import string\nimport re\n\n# Load the English library from SpaCy\nnlp = spacy.load(\"en_core_web_sm\")\n\n# Add contextual spell check to pipeline\nnlp.add_pipe(\"contextual spellchecker\", config={\"max_edit_dist\": 5})    \n\n# Create list of punctuation marks\npunctuations = string.punctuation\n\n# Create list of stopwords from spaCy\nstopwords = spacy.lang.en.stop_words.STOP_WORDS\n\n# Remove URLs\ndef remove_urls(text):\n    text = re.sub(r\"\\S*https?:\\S*\", \"\", text, flags=re.MULTILINE)\n    return text\n\n# Creat tokenizer function\ndef spacy_tokenizer(sentence):\n    # Create token object from spacy\n    docs = nlp(sentence)\n\n    # Correct spelling\n    tokens = docs._.outcome_spellCheck\n    tokens = nlp(tokens)\n\n    # Lemmatize each token and convert each token into lowercase\n    tokens = [word.lemma_.lower().strip() if word.lemma_ != \"PROPN\" else word.lower_ for word in tokens]\n    \n    # Remove stopwords\n    tokens = [word for word in tokens if word not in stopwords and word not in punctuations]\n    \n    # Remove links\n    tokens = [remove_urls(word) for word in tokens]\n    \n    # return preprocessed list of tokens\n    return tokens\n\nspacy_tokenizer(sample_text)\n\n",
   "outputs": [
    {
     "output_type": "execute_result",
     "execution_count": 35,
     "data": {
      "text/plain": "['advice',\n 'talk',\n 'neighbours',\n 'family',\n 'exchange',\n 'phone',\n 'number',\n 'create',\n 'contact',\n 'list',\n 'phone',\n 'number',\n 'neighbour',\n 'school',\n 'employer',\n 'chemist',\n 'gp',\n 'set',\n 'online',\n 'shopping',\n 'account',\n 'adequate',\n 'supply',\n 'regular',\n 'meal',\n 'order']"
     },
     "metadata": {}
    }
   ],
   "execution_count": null
  },
  {
   "cell_type": "markdown",
   "source": "### Bag-of-words Model\nThis is the code for bag-of-words model using `scikit learn`'s `CountVectorizer`.",
   "metadata": {
    "tags": [],
    "cell_id": "00030-30263491-a93c-4bdf-8513-d4cf4ef14a94",
    "deepnote_cell_type": "markdown"
   }
  },
  {
   "cell_type": "code",
   "metadata": {
    "tags": [],
    "deepnote_to_be_reexecuted": true,
    "source_hash": "2391edbe",
    "execution_start": 1632765022276,
    "execution_millis": 3,
    "allow_embed": "code_output",
    "cell_id": "00031-ee28391a-a909-4289-aaab-9c9ffae12e21",
    "deepnote_cell_type": "code"
   },
   "source": "# Bag-of-words data transformation\nfrom sklearn.feature_extraction.text import CountVectorizer\nbow_vector = CountVectorizer(tokenizer = spacy_tokenizer, ngram_range=(1,1))\n",
   "execution_count": null,
   "outputs": []
  },
  {
   "cell_type": "markdown",
   "source": "### Pipeline\n\nThe following cell contains the entire preprocessing pipeline from tokenization to training models.",
   "metadata": {
    "tags": [],
    "cell_id": "00032-91d807f0-4d20-4021-994e-4612b3a50623",
    "deepnote_cell_type": "markdown"
   }
  },
  {
   "cell_type": "code",
   "metadata": {
    "tags": [],
    "deepnote_to_be_reexecuted": true,
    "source_hash": "4f989e18",
    "execution_start": 1633720531364,
    "execution_millis": 37,
    "allow_embed": "code",
    "cell_id": "00033-1fcaad0d-11e5-4188-aafc-4e9d833e19d2",
    "deepnote_cell_type": "code"
   },
   "source": "from sklearn.base import TransformerMixin\nfrom sklearn.pipeline import Pipeline\n\n# Custom transformer class using spaCy\nclass predictors(TransformerMixin):\n    def transform(self, X, **transform_params):\n        # Implement clean_text\n        return [clean_text(text) for text in X]\n\n    def fit(self, X, y=None, **fit_params):\n        return self\n\n    def get_params(self, deep=True):\n        return {}\n\n# Basic function to clean the text\ndef clean_text(text):\n    # Remove spaces and converte text into lowercase\n    return text.strip().lower()\n\n# Bag-of-words data transformation\nfrom sklearn.feature_extraction.text import CountVectorizer\nbow_vector = CountVectorizer(tokenizer = spacy_tokenizer, ngram_range=(1,1))\n\n# Multinomial Naive Bayes Classifier\nfrom sklearn.naive_bayes import MultinomialNB\nclassifier = MultinomialNB()\n\n# Create pipeline\npipe = Pipeline([(\"cleaner\", predictors()),\n                 ('vectorizer', bow_vector),\n                 ('classifier', classifier)])",
   "outputs": [],
   "execution_count": null
  },
  {
   "cell_type": "markdown",
   "source": "### Model Training\nI first assign the train and test sets of the data and I then train the statistical models (Naive Bayes, Logistic Regression, SVM).",
   "metadata": {
    "tags": [],
    "cell_id": "00034-19e073f7-e68d-46b8-8241-c43d729e40a8",
    "deepnote_cell_type": "markdown"
   }
  },
  {
   "cell_type": "code",
   "metadata": {
    "tags": [],
    "deepnote_to_be_reexecuted": true,
    "source_hash": "f8cfb8fc",
    "execution_start": 1633720674666,
    "execution_millis": 13,
    "cell_id": "00035-5d3d18af-ccbd-4d96-85e7-2f892e1e38e7",
    "deepnote_cell_type": "code"
   },
   "source": "X_train = trainDF.OriginalTweet\nX_test = testDF.OriginalTweet\ny_train = trainDF.encoded_sentiment\ny_test = testDF.encoded_sentiment",
   "outputs": [],
   "execution_count": null
  },
  {
   "cell_type": "code",
   "metadata": {
    "tags": [],
    "deepnote_to_be_reexecuted": true,
    "source_hash": "13096d4f",
    "execution_start": 1633720678891,
    "execution_millis": 3184,
    "allow_embed": "code",
    "cell_id": "00036-7010f183-b024-4cf0-921f-90a661f43f44",
    "deepnote_cell_type": "code"
   },
   "source": "# Multinomial Naive Bayes Classifier\nfrom sklearn.naive_bayes import MultinomialNB\nclassifier = MultinomialNB()\n\n# Create pipeline using Bag of Words\npipe_NB = Pipeline([('cleaner', predictors()),\n                 ('vectorizer', bow_vector),\n                 ('classifier', classifier)])\n\n# model generation\npipe_NB.fit(X_train,y_train)",
   "execution_count": null,
   "outputs": [
    {
     "output_type": "error",
     "ename": "NameError",
     "evalue": "name 'Pipeline' is not defined",
     "traceback": [
      "\u001b[0;31m---------------------------------------------------------------------------\u001b[0m",
      "\u001b[0;31mNameError\u001b[0m                                 Traceback (most recent call last)",
      "\u001b[0;32m/tmp/ipykernel_141/2548864.py\u001b[0m in \u001b[0;36m<module>\u001b[0;34m\u001b[0m\n\u001b[1;32m      4\u001b[0m \u001b[0;34m\u001b[0m\u001b[0m\n\u001b[1;32m      5\u001b[0m \u001b[0;31m# Create pipeline using Bag of Words\u001b[0m\u001b[0;34m\u001b[0m\u001b[0;34m\u001b[0m\u001b[0;34m\u001b[0m\u001b[0m\n\u001b[0;32m----> 6\u001b[0;31m pipe = Pipeline([(\"cleaner\", predictors()),\n\u001b[0m\u001b[1;32m      7\u001b[0m                  \u001b[0;34m(\u001b[0m\u001b[0;34m'vectorizer'\u001b[0m\u001b[0;34m,\u001b[0m \u001b[0mbow_vector\u001b[0m\u001b[0;34m)\u001b[0m\u001b[0;34m,\u001b[0m\u001b[0;34m\u001b[0m\u001b[0;34m\u001b[0m\u001b[0m\n\u001b[1;32m      8\u001b[0m                  ('classifier', classifier)])\n",
      "\u001b[0;31mNameError\u001b[0m: name 'Pipeline' is not defined"
     ]
    }
   ]
  },
  {
   "cell_type": "code",
   "metadata": {
    "tags": [],
    "deepnote_to_be_reexecuted": true,
    "source_hash": "f066ca65",
    "execution_start": 1632765923358,
    "execution_millis": 405054,
    "allow_embed": "code",
    "cell_id": "00037-cbe85be7-6dcc-476e-b81e-64b8aa843dcf",
    "deepnote_cell_type": "code"
   },
   "source": "# Logistic Regression Classifier\nfrom sklearn.linear_model import LogisticRegression\nclassifier_log = LogisticRegression()\n\n# Create pipeline using Bag of Words\npipe_log = Pipeline([('cleaner', predictors()),\n                 ('vectorizer', bow_vector),\n                 ('classifier', classifier_log)])\n\n# model generation\npipe_log.fit(X_train,y_train)",
   "execution_count": null,
   "outputs": [
    {
     "name": "stderr",
     "text": "/shared-libs/python3.7/py/lib/python3.7/site-packages/sklearn/linear_model/_logistic.py:818: ConvergenceWarning: lbfgs failed to converge (status=1):\nSTOP: TOTAL NO. of ITERATIONS REACHED LIMIT.\n\nIncrease the number of iterations (max_iter) or scale the data as shown in:\n    https://scikit-learn.org/stable/modules/preprocessing.html\nPlease also refer to the documentation for alternative solver options:\n    https://scikit-learn.org/stable/modules/linear_model.html#logistic-regression\n  extra_warning_msg=_LOGISTIC_SOLVER_CONVERGENCE_MSG,\n",
     "output_type": "stream"
    },
    {
     "output_type": "execute_result",
     "execution_count": 44,
     "data": {
      "text/plain": "Pipeline(steps=[('cleaner', <__main__.predictors object at 0x7f9e9258dd50>),\n                ('vectorizer',\n                 CountVectorizer(tokenizer=<function spacy_tokenizer at 0x7f9e93ab1440>)),\n                ('classifier', LogisticRegression())])"
     },
     "metadata": {}
    }
   ]
  },
  {
   "cell_type": "code",
   "metadata": {
    "tags": [],
    "deepnote_to_be_reexecuted": true,
    "source_hash": "b2ec0915",
    "execution_start": 1632766366941,
    "execution_millis": 1576341,
    "allow_embed": "code",
    "cell_id": "00038-5e24e827-57d9-4f73-81aa-6ebc71baebd1",
    "deepnote_cell_type": "code"
   },
   "source": "# SVM Classifier\nfrom sklearn.svm import SVC\nclassifier_svm = SVC()\n\n# Create pipeline using Bag of Words\npipe_svm = Pipeline([('cleaner', predictors()),\n                 ('vectorizer', bow_vector),\n                 ('classifier', classifier_svm)])\n\n# model generation\npipe_svm.fit(X_train,y_train)",
   "execution_count": null,
   "outputs": [
    {
     "output_type": "execute_result",
     "execution_count": 46,
     "data": {
      "text/plain": "Pipeline(steps=[('cleaner', <__main__.predictors object at 0x7f9e8726d9d0>),\n                ('vectorizer',\n                 CountVectorizer(tokenizer=<function spacy_tokenizer at 0x7f9e93ab1440>)),\n                ('classifier', SVC())])"
     },
     "metadata": {}
    }
   ]
  },
  {
   "cell_type": "markdown",
   "source": "### Model Performance\nI looked at the precision, recall, and F-1 score to measure the accuracy of the model.",
   "metadata": {
    "tags": [],
    "cell_id": "00039-b161718d-2f8d-4675-91f2-ed96703c549e",
    "deepnote_cell_type": "markdown"
   }
  },
  {
   "cell_type": "code",
   "metadata": {
    "tags": [],
    "deepnote_to_be_reexecuted": true,
    "source_hash": "79f4bdf0",
    "execution_start": 1632765885633,
    "execution_millis": 37079,
    "cell_id": "00040-78be061a-fb12-49ff-a10b-ac3c6874d185",
    "deepnote_cell_type": "code"
   },
   "source": "# Classification Report\nfrom sklearn.metrics import classification_report\n\n# Predict with a test dataset\npredicted = pipe_NB.predict(X_test)\n\n# Model Accuracy\nprint(\"Naive Bayes Model:\\n\")\nprint(classification_report(y_test, predicted, target_names = ['Extremely Negative', 'Negative', 'Neutral', 'Positive', 'Extremely Positive']))\n\n",
   "execution_count": null,
   "outputs": [
    {
     "name": "stdout",
     "text": "                    precision    recall  f1-score   support\n\nExtremely Negative       0.63      0.19      0.29       592\n          Negative       0.73      0.20      0.31       599\n           Neutral       0.41      0.54      0.47      1040\n          Positive       0.70      0.15      0.25       614\nExtremely Positive       0.35      0.72      0.47       945\n\n          accuracy                           0.41      3790\n         macro avg       0.56      0.36      0.36      3790\n      weighted avg       0.53      0.41      0.38      3790\n\n",
     "output_type": "stream"
    }
   ]
  },
  {
   "cell_type": "code",
   "metadata": {
    "tags": [],
    "deepnote_to_be_reexecuted": true,
    "source_hash": "4b6f28e9",
    "execution_start": 1632766328401,
    "execution_millis": 38507,
    "cell_id": "00041-bf1cc838-288d-4283-8bdc-b4674ed29b54",
    "deepnote_cell_type": "code"
   },
   "source": "# Classification Report\nfrom sklearn.metrics import classification_report\n# Predicting with a test dataset\npredicted_log = pipe_log.predict(X_test)\n\n# Model Accuracy\nprint(\"Logistic Regression Model:\\n\")\nprint(classification_report(y_test, predicted_log, target_names = ['Extremely Negative', 'Negative', 'Neutral', 'Positive', 'Extremely Positive']))\n\n",
   "execution_count": null,
   "outputs": [
    {
     "name": "stdout",
     "text": "                    precision    recall  f1-score   support\n\nExtremely Negative       0.64      0.57      0.60       592\n          Negative       0.68      0.58      0.63       599\n           Neutral       0.54      0.52      0.53      1040\n          Positive       0.60      0.68      0.64       614\nExtremely Positive       0.53      0.59      0.56       945\n\n          accuracy                           0.58      3790\n         macro avg       0.60      0.59      0.59      3790\n      weighted avg       0.58      0.58      0.58      3790\n\n",
     "output_type": "stream"
    }
   ]
  },
  {
   "cell_type": "code",
   "metadata": {
    "tags": [],
    "deepnote_to_be_reexecuted": true,
    "source_hash": "73460ebb",
    "execution_start": 1632767943317,
    "execution_millis": 65072,
    "cell_id": "00042-318df6e6-3700-4ed4-8396-af84e88a9f34",
    "deepnote_cell_type": "code"
   },
   "source": "# Classificatin Report\nfrom sklearn.metrics import classification_report\n# Predicting with a test dataset\npredicted_svm = pipe_svm.predict(X_test)\n\n# Model Accuracy\nprint(\"Logistic Regression Model:\\n\")\nprint(classification_report(y_test, predicted_svm, target_names = ['Extremely Negative', 'Negative', 'Neutral', 'Positive', 'Extremely Positive']))",
   "execution_count": null,
   "outputs": [
    {
     "name": "stdout",
     "text": "                    precision    recall  f1-score   support\n\nExtremely Negative       0.68      0.44      0.53       592\n          Negative       0.73      0.48      0.58       599\n           Neutral       0.52      0.53      0.52      1040\n          Positive       0.58      0.70      0.63       614\nExtremely Positive       0.49      0.63      0.55       945\n\n          accuracy                           0.56      3790\n         macro avg       0.60      0.55      0.56      3790\n      weighted avg       0.58      0.56      0.56      3790\n\n",
     "output_type": "stream"
    }
   ]
  },
  {
   "cell_type": "markdown",
   "source": "<a style='text-decoration:none;line-height:16px;display:flex;color:#5B5B62;padding:10px;justify-content:end;' href='https://deepnote.com?utm_source=created-in-deepnote-cell&projectId=36980032-e74f-4047-828e-e2329ad1a610' target=\"_blank\">\n<img alt='Created in deepnote.com' style='display:inline;max-height:16px;margin:0px;margin-right:7.5px;' src='data:image/svg+xml;base64,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' > </img>\nCreated in <span style='font-weight:600;margin-left:4px;'>Deepnote</span></a>",
   "metadata": {
    "tags": [],
    "created_in_deepnote_cell": true,
    "deepnote_cell_type": "markdown"
   }
  }
 ],
 "nbformat": 4,
 "nbformat_minor": 2,
 "metadata": {
  "orig_nbformat": 2,
  "deepnote": {
   "is_reactive": false
  },
  "deepnote_notebook_id": "f6655064-7a31-4f42-b139-e372cd302c0f",
  "deepnote_execution_queue": [
   {
    "cellId": "00002-c66a6dad-19a0-4cb5-93cc-5483be35b121",
    "sessionId": "737a1471-da3b-4847-99cc-605984b85aa8",
    "msgId": "410c8062-33e1-4cd4-a743-8778c9391616"
   },
   {
    "cellId": "00003-fb5eda1b-0b9e-4712-a515-3170828c273e",
    "sessionId": "737a1471-da3b-4847-99cc-605984b85aa8",
    "msgId": "6bfe0fb3-8e3b-4ed0-8c14-9b0bfa9236dd"
   },
   {
    "cellId": "00005-c4334d04-d60e-4d4f-b88e-cebc54b5ac64",
    "sessionId": "737a1471-da3b-4847-99cc-605984b85aa8",
    "msgId": "3764666d-bbed-43dc-b033-616d299ecf0d"
   },
   {
    "cellId": "00006-a1b712c2-6254-4b2f-a504-3bb9619c6db5",
    "sessionId": "737a1471-da3b-4847-99cc-605984b85aa8",
    "msgId": "04cdcdbe-573a-49c5-b97f-4406e73b61e8"
   },
   {
    "cellId": "00007-e24030d7-294d-498b-93ef-04eb30cc5397",
    "sessionId": "737a1471-da3b-4847-99cc-605984b85aa8",
    "msgId": "30fbd565-ff5a-4dde-b765-5f504206eade"
   },
   {
    "cellId": "00016-c568566c-0e9f-464d-8fed-63c6b2d260b9",
    "sessionId": "737a1471-da3b-4847-99cc-605984b85aa8",
    "msgId": "a7ccc644-5cce-4faa-a127-7bfde98f5f96"
   },
   {
    "cellId": "00023-df8c722e-9a31-4d0a-8b6d-733174e8636f",
    "sessionId": "737a1471-da3b-4847-99cc-605984b85aa8",
    "msgId": "af758d12-db80-4297-bfa2-018935425a41"
   },
   {
    "cellId": "00025-5ff74687-37af-4981-bd0d-7d77c52e639b",
    "sessionId": "737a1471-da3b-4847-99cc-605984b85aa8",
    "msgId": "899468ab-63dd-4bc2-b0f0-571b4596dbc2"
   },
   {
    "cellId": "00027-283d43cf-21fb-494a-99cc-44a507302596",
    "sessionId": "737a1471-da3b-4847-99cc-605984b85aa8",
    "msgId": "12dc2d1b-4534-4108-a859-4239dc94b5c3"
   },
   {
    "cellId": "00029-d8128128-388e-48fc-ab92-fb42d2a7c11a",
    "sessionId": "737a1471-da3b-4847-99cc-605984b85aa8",
    "msgId": "06fb01e4-6e42-438c-b6bb-eb16d456a93d"
   },
   {
    "cellId": "00031-ee28391a-a909-4289-aaab-9c9ffae12e21",
    "sessionId": "737a1471-da3b-4847-99cc-605984b85aa8",
    "msgId": "c8a75aa4-6b5b-47ca-880d-ad686dfddbd5"
   },
   {
    "cellId": "00033-1fcaad0d-11e5-4188-aafc-4e9d833e19d2",
    "sessionId": "737a1471-da3b-4847-99cc-605984b85aa8",
    "msgId": "656f0f48-46fa-4ecf-8412-b74541ff4b94"
   },
   {
    "cellId": "00035-5d3d18af-ccbd-4d96-85e7-2f892e1e38e7",
    "sessionId": "737a1471-da3b-4847-99cc-605984b85aa8",
    "msgId": "6098d7e3-999c-42bc-a3c3-aadd3f9d1bfc"
   },
   {
    "cellId": "00036-7010f183-b024-4cf0-921f-90a661f43f44",
    "sessionId": "737a1471-da3b-4847-99cc-605984b85aa8",
    "msgId": "647c29f8-f971-4a54-a98e-aff641084764"
   },
   {
    "cellId": "00037-cbe85be7-6dcc-476e-b81e-64b8aa843dcf",
    "sessionId": "737a1471-da3b-4847-99cc-605984b85aa8",
    "msgId": "d07f4ff2-66f6-43a4-8d65-d241c5b650dd"
   },
   {
    "cellId": "00038-5e24e827-57d9-4f73-81aa-6ebc71baebd1",
    "sessionId": "737a1471-da3b-4847-99cc-605984b85aa8",
    "msgId": "857aa2fd-8458-4d08-8178-4000a61a57e0"
   },
   {
    "cellId": "00040-78be061a-fb12-49ff-a10b-ac3c6874d185",
    "sessionId": "737a1471-da3b-4847-99cc-605984b85aa8",
    "msgId": "0a22532e-f75a-4c1a-8e75-51897a7dc3b0"
   },
   {
    "cellId": "00041-bf1cc838-288d-4283-8bdc-b4674ed29b54",
    "sessionId": "737a1471-da3b-4847-99cc-605984b85aa8",
    "msgId": "0438056d-dd92-4ebe-a195-f155835d28e3"
   },
   {
    "cellId": "00042-318df6e6-3700-4ed4-8396-af84e88a9f34",
    "sessionId": "737a1471-da3b-4847-99cc-605984b85aa8",
    "msgId": "8c7f3166-73e1-4c14-94ce-9fab0cfd9e51"
   }
  ]
 }
}