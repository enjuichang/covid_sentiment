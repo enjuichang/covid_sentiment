{
 "cells": [
  {
   "cell_type": "markdown",
   "source": "# Project Name\n\nShort description of project.",
   "metadata": {
    "tags": [],
    "cell_id": "00000-eed832a1-9728-492f-809c-1ff1f4ed229b",
    "deepnote_cell_type": "markdown"
   }
  },
  {
   "cell_type": "markdown",
   "source": "## Project Problem Statement / Summary\n\n- Purpose\n- Goal\n- Outcome\n- ...",
   "metadata": {
    "tags": [],
    "cell_id": "00001-f2f5d946-3fab-4b80-a1e2-c590d7cd75ca",
    "deepnote_cell_type": "markdown"
   }
  },
  {
   "cell_type": "markdown",
   "source": "## Datasets & Libraries\n### Datasets\n- Where? (Where did you find it?)\n- Why? (Why use this data? What's special?)\n- How? (How are you using it?)\n- Metrics? (Are there common metrics/benchmarks for this dataset?)\n- ...\n\n### Libraries\n- What? (What are the libraries used)\n- Why? (Why use these libraries?)\n- Special dependencies?\n- ...",
   "metadata": {
    "tags": [],
    "cell_id": "00003-55cf11c9-e0bd-44b2-9dfb-37658c41ce17",
    "deepnote_cell_type": "markdown"
   }
  },
  {
   "cell_type": "code",
   "metadata": {
    "tags": [],
    "cell_id": "00003-5cb11c9f-c9b4-4c28-b6a6-2225bdbdb429",
    "deepnote_cell_type": "code"
   },
   "source": "# Code for importing libraries\n\n# ...\n\n# Code for importing datasets\n\n# ...",
   "execution_count": null,
   "outputs": []
  },
  {
   "cell_type": "markdown",
   "source": "### Preprocessing\n- What was the main problem with the data?\n- What proprocessing technique was used?",
   "metadata": {
    "tags": [],
    "cell_id": "00003-67650822-e148-47ec-a806-a2a0e7f1d995",
    "deepnote_cell_type": "markdown"
   }
  },
  {
   "cell_type": "code",
   "metadata": {
    "tags": [],
    "cell_id": "00003-44e7e8f2-28da-4fd7-bfd2-4e96c4d9bbce",
    "deepnote_cell_type": "code"
   },
   "source": "# Code for preprocessing",
   "execution_count": null,
   "outputs": []
  },
  {
   "cell_type": "markdown",
   "source": "## Exploratory Analysis\nExploration of the dataset to show possible confounders or dependencies to the result.\n- Distributions\n- Possible confounders\n- Missing Data\n- Observations\n- Dependencies\n- ...",
   "metadata": {
    "tags": [],
    "cell_id": "00006-1a1f3cd4-19a4-4971-9d66-ca12c3f5c2a6",
    "deepnote_cell_type": "markdown"
   }
  },
  {
   "cell_type": "code",
   "metadata": {
    "tags": [],
    "cell_id": "00007-d287d75a-a1c0-4265-885b-f2bec07b33ce",
    "deepnote_cell_type": "code"
   },
   "source": "# Code for Exploratory Analysis",
   "execution_count": null,
   "outputs": []
  },
  {
   "cell_type": "markdown",
   "source": "## Result (Main Analysis)\nFocus of the project. Discuss purpose of the methods or techniques used.\n- (Optional) Work with small portion of dataset to try out the analysis\n- Methods and techniques\n- Training/Testing model\n- Visualizations\n- Bias analysis (sensitivity testing)\n- Metrics\n- ...\n",
   "metadata": {
    "tags": [],
    "cell_id": "00008-15a8277d-3c9e-4afc-b40f-7aff9f519557",
    "deepnote_cell_type": "markdown"
   }
  },
  {
   "cell_type": "markdown",
   "source": "### Training/Manipulating Data/Model\n- Provide description on how the data is manipulated and how the model is trained\n- Provide code on how the model is trained etc.\n- ...",
   "metadata": {
    "tags": [],
    "cell_id": "00009-35aa29d6-4039-4df4-abae-cd2d54140c3b",
    "deepnote_cell_type": "markdown"
   }
  },
  {
   "cell_type": "code",
   "metadata": {
    "tags": [],
    "cell_id": "00010-9d5b3512-9966-4d77-baea-ec60142e7551",
    "deepnote_cell_type": "code"
   },
   "source": "# Code for training model",
   "execution_count": null,
   "outputs": []
  },
  {
   "cell_type": "markdown",
   "source": "### Validation/Metrics\n- Provide description on the validation of the analysis\n- Provide statistics on the analysis\n- Provide additional test to the model (e.g., sensitivity test etc.)\n- ...",
   "metadata": {
    "tags": [],
    "cell_id": "00011-efc3b504-a83c-4f0c-9fcd-3efbf233546e",
    "deepnote_cell_type": "markdown"
   }
  },
  {
   "cell_type": "code",
   "metadata": {
    "tags": [],
    "cell_id": "00012-d2498180-d98f-47f3-9d60-fd6efeb7b4cc",
    "deepnote_cell_type": "code"
   },
   "source": "# Code for validation and metrics",
   "execution_count": null,
   "outputs": []
  },
  {
   "cell_type": "markdown",
   "source": "## Discussion\nDiscuss the result of the analysis.\n- Was the goal reached?\n- How do we interpret the analysis?\n- How well the model performed compared to other models\n- What are some potential confounders? Was it adjusted?\n- What does the metrics/validity tests show?\n- ...",
   "metadata": {
    "tags": [],
    "cell_id": "00009-4f4ed134-0eca-4f78-9541-adaa22567854",
    "deepnote_cell_type": "markdown"
   }
  },
  {
   "cell_type": "markdown",
   "source": "## Reflection and Conclusion\n- What is the conclusion of the analysis? (dataset, method, result, metrics, etc.)\n- What goals were acheived?\n- How can we use this result?\n- What are new problems that can be raised?\n- What would you have done differently?\n- Any suggestions for people viewing the project?\n- ...",
   "metadata": {
    "tags": [],
    "cell_id": "00009-422f653a-d5ce-4a7c-b975-ea35352e7392",
    "deepnote_cell_type": "markdown"
   }
  },
  {
   "cell_type": "markdown",
   "source": "<br>\n<br>\n\n## [Back](00_getting_started.ipynb)",
   "metadata": {
    "tags": [],
    "cell_id": "00001-92a82810-5d46-4d35-8122-5f4b7842f19a",
    "deepnote_cell_type": "markdown"
   }
  },
  {
   "cell_type": "markdown",
   "source": "<a style='text-decoration:none;line-height:16px;display:flex;color:#5B5B62;padding:10px;justify-content:end;' href='https://deepnote.com?utm_source=created-in-deepnote-cell&projectId=36980032-e74f-4047-828e-e2329ad1a610' target=\"_blank\">\n<img alt='Created in deepnote.com' style='display:inline;max-height:16px;margin:0px;margin-right:7.5px;' src='data:image/svg+xml;base64,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' > </img>\nCreated in <span style='font-weight:600;margin-left:4px;'>Deepnote</span></a>",
   "metadata": {
    "tags": [],
    "created_in_deepnote_cell": true,
    "deepnote_cell_type": "markdown"
   }
  }
 ],
 "nbformat": 4,
 "nbformat_minor": 2,
 "metadata": {
  "orig_nbformat": 2,
  "deepnote": {
   "is_reactive": false
  },
  "deepnote_notebook_id": "daff7d76-8cae-4517-b55e-a62ce860b2c4",
  "deepnote_execution_queue": []
 }
}